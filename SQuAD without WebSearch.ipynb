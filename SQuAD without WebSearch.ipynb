{
  "cells": [
    {
      "cell_type": "code",
      "execution_count": 23,
      "metadata": {
        "colab": {
          "base_uri": "https://localhost:8080/"
        },
        "id": "B6L9s5MQ_gjy",
        "outputId": "57b0fe20-1a15-4083-ecd9-045fa54e0c2f"
      },
      "outputs": [
        {
          "name": "stdout",
          "output_type": "stream",
          "text": [
            "Requirement already satisfied: python-dotenv in /usr/local/lib/python3.11/dist-packages (1.1.0)\n",
            "Requirement already satisfied: langchain in /usr/local/lib/python3.11/dist-packages (0.3.24)\n",
            "Requirement already satisfied: langchain-community in /usr/local/lib/python3.11/dist-packages (0.3.23)\n",
            "Requirement already satisfied: langchain_groq in /usr/local/lib/python3.11/dist-packages (0.3.2)\n",
            "Requirement already satisfied: langchain-core<1.0.0,>=0.3.55 in /usr/local/lib/python3.11/dist-packages (from langchain) (0.3.56)\n",
            "Requirement already satisfied: langchain-text-splitters<1.0.0,>=0.3.8 in /usr/local/lib/python3.11/dist-packages (from langchain) (0.3.8)\n",
            "Requirement already satisfied: langsmith<0.4,>=0.1.17 in /usr/local/lib/python3.11/dist-packages (from langchain) (0.3.38)\n",
            "Requirement already satisfied: pydantic<3.0.0,>=2.7.4 in /usr/local/lib/python3.11/dist-packages (from langchain) (2.11.3)\n",
            "Requirement already satisfied: SQLAlchemy<3,>=1.4 in /usr/local/lib/python3.11/dist-packages (from langchain) (2.0.40)\n",
            "Requirement already satisfied: requests<3,>=2 in /usr/local/lib/python3.11/dist-packages (from langchain) (2.32.3)\n",
            "Requirement already satisfied: PyYAML>=5.3 in /usr/local/lib/python3.11/dist-packages (from langchain) (6.0.2)\n",
            "Requirement already satisfied: aiohttp<4.0.0,>=3.8.3 in /usr/local/lib/python3.11/dist-packages (from langchain-community) (3.11.15)\n",
            "Requirement already satisfied: tenacity!=8.4.0,<10,>=8.1.0 in /usr/local/lib/python3.11/dist-packages (from langchain-community) (9.1.2)\n",
            "Requirement already satisfied: dataclasses-json<0.7,>=0.5.7 in /usr/local/lib/python3.11/dist-packages (from langchain-community) (0.6.7)\n",
            "Requirement already satisfied: pydantic-settings<3.0.0,>=2.4.0 in /usr/local/lib/python3.11/dist-packages (from langchain-community) (2.9.1)\n",
            "Requirement already satisfied: httpx-sse<1.0.0,>=0.4.0 in /usr/local/lib/python3.11/dist-packages (from langchain-community) (0.4.0)\n",
            "Requirement already satisfied: numpy>=1.26.2 in /usr/local/lib/python3.11/dist-packages (from langchain-community) (2.0.2)\n",
            "Requirement already satisfied: groq<1,>=0.4.1 in /usr/local/lib/python3.11/dist-packages (from langchain_groq) (0.24.0)\n",
            "Requirement already satisfied: aiohappyeyeballs>=2.3.0 in /usr/local/lib/python3.11/dist-packages (from aiohttp<4.0.0,>=3.8.3->langchain-community) (2.6.1)\n",
            "Requirement already satisfied: aiosignal>=1.1.2 in /usr/local/lib/python3.11/dist-packages (from aiohttp<4.0.0,>=3.8.3->langchain-community) (1.3.2)\n",
            "Requirement already satisfied: attrs>=17.3.0 in /usr/local/lib/python3.11/dist-packages (from aiohttp<4.0.0,>=3.8.3->langchain-community) (25.3.0)\n",
            "Requirement already satisfied: frozenlist>=1.1.1 in /usr/local/lib/python3.11/dist-packages (from aiohttp<4.0.0,>=3.8.3->langchain-community) (1.6.0)\n",
            "Requirement already satisfied: multidict<7.0,>=4.5 in /usr/local/lib/python3.11/dist-packages (from aiohttp<4.0.0,>=3.8.3->langchain-community) (6.4.3)\n",
            "Requirement already satisfied: propcache>=0.2.0 in /usr/local/lib/python3.11/dist-packages (from aiohttp<4.0.0,>=3.8.3->langchain-community) (0.3.1)\n",
            "Requirement already satisfied: yarl<2.0,>=1.17.0 in /usr/local/lib/python3.11/dist-packages (from aiohttp<4.0.0,>=3.8.3->langchain-community) (1.20.0)\n",
            "Requirement already satisfied: marshmallow<4.0.0,>=3.18.0 in /usr/local/lib/python3.11/dist-packages (from dataclasses-json<0.7,>=0.5.7->langchain-community) (3.26.1)\n",
            "Requirement already satisfied: typing-inspect<1,>=0.4.0 in /usr/local/lib/python3.11/dist-packages (from dataclasses-json<0.7,>=0.5.7->langchain-community) (0.9.0)\n",
            "Requirement already satisfied: anyio<5,>=3.5.0 in /usr/local/lib/python3.11/dist-packages (from groq<1,>=0.4.1->langchain_groq) (4.9.0)\n",
            "Requirement already satisfied: distro<2,>=1.7.0 in /usr/local/lib/python3.11/dist-packages (from groq<1,>=0.4.1->langchain_groq) (1.9.0)\n",
            "Requirement already satisfied: httpx<1,>=0.23.0 in /usr/local/lib/python3.11/dist-packages (from groq<1,>=0.4.1->langchain_groq) (0.28.1)\n",
            "Requirement already satisfied: sniffio in /usr/local/lib/python3.11/dist-packages (from groq<1,>=0.4.1->langchain_groq) (1.3.1)\n",
            "Requirement already satisfied: typing-extensions<5,>=4.10 in /usr/local/lib/python3.11/dist-packages (from groq<1,>=0.4.1->langchain_groq) (4.13.2)\n",
            "Requirement already satisfied: jsonpatch<2.0,>=1.33 in /usr/local/lib/python3.11/dist-packages (from langchain-core<1.0.0,>=0.3.55->langchain) (1.33)\n",
            "Requirement already satisfied: packaging<25,>=23.2 in /usr/local/lib/python3.11/dist-packages (from langchain-core<1.0.0,>=0.3.55->langchain) (24.2)\n",
            "Requirement already satisfied: orjson<4.0.0,>=3.9.14 in /usr/local/lib/python3.11/dist-packages (from langsmith<0.4,>=0.1.17->langchain) (3.10.17)\n",
            "Requirement already satisfied: requests-toolbelt<2.0.0,>=1.0.0 in /usr/local/lib/python3.11/dist-packages (from langsmith<0.4,>=0.1.17->langchain) (1.0.0)\n",
            "Requirement already satisfied: zstandard<0.24.0,>=0.23.0 in /usr/local/lib/python3.11/dist-packages (from langsmith<0.4,>=0.1.17->langchain) (0.23.0)\n",
            "Requirement already satisfied: annotated-types>=0.6.0 in /usr/local/lib/python3.11/dist-packages (from pydantic<3.0.0,>=2.7.4->langchain) (0.7.0)\n",
            "Requirement already satisfied: pydantic-core==2.33.1 in /usr/local/lib/python3.11/dist-packages (from pydantic<3.0.0,>=2.7.4->langchain) (2.33.1)\n",
            "Requirement already satisfied: typing-inspection>=0.4.0 in /usr/local/lib/python3.11/dist-packages (from pydantic<3.0.0,>=2.7.4->langchain) (0.4.0)\n",
            "Requirement already satisfied: charset-normalizer<4,>=2 in /usr/local/lib/python3.11/dist-packages (from requests<3,>=2->langchain) (3.4.1)\n",
            "Requirement already satisfied: idna<4,>=2.5 in /usr/local/lib/python3.11/dist-packages (from requests<3,>=2->langchain) (3.10)\n",
            "Requirement already satisfied: urllib3<3,>=1.21.1 in /usr/local/lib/python3.11/dist-packages (from requests<3,>=2->langchain) (2.4.0)\n",
            "Requirement already satisfied: certifi>=2017.4.17 in /usr/local/lib/python3.11/dist-packages (from requests<3,>=2->langchain) (2025.4.26)\n",
            "Requirement already satisfied: greenlet>=1 in /usr/local/lib/python3.11/dist-packages (from SQLAlchemy<3,>=1.4->langchain) (3.2.1)\n",
            "Requirement already satisfied: httpcore==1.* in /usr/local/lib/python3.11/dist-packages (from httpx<1,>=0.23.0->groq<1,>=0.4.1->langchain_groq) (1.0.9)\n",
            "Requirement already satisfied: h11>=0.16 in /usr/local/lib/python3.11/dist-packages (from httpcore==1.*->httpx<1,>=0.23.0->groq<1,>=0.4.1->langchain_groq) (0.16.0)\n",
            "Requirement already satisfied: jsonpointer>=1.9 in /usr/local/lib/python3.11/dist-packages (from jsonpatch<2.0,>=1.33->langchain-core<1.0.0,>=0.3.55->langchain) (3.0.0)\n",
            "Requirement already satisfied: mypy-extensions>=0.3.0 in /usr/local/lib/python3.11/dist-packages (from typing-inspect<1,>=0.4.0->dataclasses-json<0.7,>=0.5.7->langchain-community) (1.1.0)\n",
            "Requirement already satisfied: langchain_community in /usr/local/lib/python3.11/dist-packages (0.3.23)\n",
            "Requirement already satisfied: langchain_anthropic in /usr/local/lib/python3.11/dist-packages (0.3.12)\n",
            "Requirement already satisfied: langchain_experimental in /usr/local/lib/python3.11/dist-packages (0.3.4)\n",
            "Requirement already satisfied: matplotlib in /usr/local/lib/python3.11/dist-packages (3.10.1)\n",
            "Requirement already satisfied: langgraph in /usr/local/lib/python3.11/dist-packages (0.4.1)\n",
            "Requirement already satisfied: langchain-core<1.0.0,>=0.3.56 in /usr/local/lib/python3.11/dist-packages (from langchain_community) (0.3.56)\n",
            "Requirement already satisfied: langchain<1.0.0,>=0.3.24 in /usr/local/lib/python3.11/dist-packages (from langchain_community) (0.3.24)\n",
            "Requirement already satisfied: SQLAlchemy<3,>=1.4 in /usr/local/lib/python3.11/dist-packages (from langchain_community) (2.0.40)\n",
            "Requirement already satisfied: requests<3,>=2 in /usr/local/lib/python3.11/dist-packages (from langchain_community) (2.32.3)\n",
            "Requirement already satisfied: PyYAML>=5.3 in /usr/local/lib/python3.11/dist-packages (from langchain_community) (6.0.2)\n",
            "Requirement already satisfied: aiohttp<4.0.0,>=3.8.3 in /usr/local/lib/python3.11/dist-packages (from langchain_community) (3.11.15)\n",
            "Requirement already satisfied: tenacity!=8.4.0,<10,>=8.1.0 in /usr/local/lib/python3.11/dist-packages (from langchain_community) (9.1.2)\n",
            "Requirement already satisfied: dataclasses-json<0.7,>=0.5.7 in /usr/local/lib/python3.11/dist-packages (from langchain_community) (0.6.7)\n",
            "Requirement already satisfied: pydantic-settings<3.0.0,>=2.4.0 in /usr/local/lib/python3.11/dist-packages (from langchain_community) (2.9.1)\n",
            "Requirement already satisfied: langsmith<0.4,>=0.1.125 in /usr/local/lib/python3.11/dist-packages (from langchain_community) (0.3.38)\n",
            "Requirement already satisfied: httpx-sse<1.0.0,>=0.4.0 in /usr/local/lib/python3.11/dist-packages (from langchain_community) (0.4.0)\n",
            "Requirement already satisfied: numpy>=1.26.2 in /usr/local/lib/python3.11/dist-packages (from langchain_community) (2.0.2)\n",
            "Requirement already satisfied: anthropic<1,>=0.49.0 in /usr/local/lib/python3.11/dist-packages (from langchain_anthropic) (0.50.0)\n",
            "Requirement already satisfied: pydantic<3.0.0,>=2.7.4 in /usr/local/lib/python3.11/dist-packages (from langchain_anthropic) (2.11.3)\n",
            "Requirement already satisfied: contourpy>=1.0.1 in /usr/local/lib/python3.11/dist-packages (from matplotlib) (1.3.2)\n",
            "Requirement already satisfied: cycler>=0.10 in /usr/local/lib/python3.11/dist-packages (from matplotlib) (0.12.1)\n",
            "Requirement already satisfied: fonttools>=4.22.0 in /usr/local/lib/python3.11/dist-packages (from matplotlib) (4.57.0)\n",
            "Requirement already satisfied: kiwisolver>=1.3.1 in /usr/local/lib/python3.11/dist-packages (from matplotlib) (1.4.8)\n",
            "Requirement already satisfied: packaging>=20.0 in /usr/local/lib/python3.11/dist-packages (from matplotlib) (24.2)\n",
            "Requirement already satisfied: pillow>=8 in /usr/local/lib/python3.11/dist-packages (from matplotlib) (11.2.1)\n",
            "Requirement already satisfied: pyparsing>=2.3.1 in /usr/local/lib/python3.11/dist-packages (from matplotlib) (3.2.3)\n",
            "Requirement already satisfied: python-dateutil>=2.7 in /usr/local/lib/python3.11/dist-packages (from matplotlib) (2.9.0.post0)\n",
            "Requirement already satisfied: langgraph-checkpoint<3.0.0,>=2.0.10 in /usr/local/lib/python3.11/dist-packages (from langgraph) (2.0.25)\n",
            "Requirement already satisfied: langgraph-prebuilt>=0.1.8 in /usr/local/lib/python3.11/dist-packages (from langgraph) (0.1.8)\n",
            "Requirement already satisfied: langgraph-sdk>=0.1.42 in /usr/local/lib/python3.11/dist-packages (from langgraph) (0.1.66)\n",
            "Requirement already satisfied: xxhash<4.0.0,>=3.5.0 in /usr/local/lib/python3.11/dist-packages (from langgraph) (3.5.0)\n",
            "Requirement already satisfied: aiohappyeyeballs>=2.3.0 in /usr/local/lib/python3.11/dist-packages (from aiohttp<4.0.0,>=3.8.3->langchain_community) (2.6.1)\n",
            "Requirement already satisfied: aiosignal>=1.1.2 in /usr/local/lib/python3.11/dist-packages (from aiohttp<4.0.0,>=3.8.3->langchain_community) (1.3.2)\n",
            "Requirement already satisfied: attrs>=17.3.0 in /usr/local/lib/python3.11/dist-packages (from aiohttp<4.0.0,>=3.8.3->langchain_community) (25.3.0)\n",
            "Requirement already satisfied: frozenlist>=1.1.1 in /usr/local/lib/python3.11/dist-packages (from aiohttp<4.0.0,>=3.8.3->langchain_community) (1.6.0)\n",
            "Requirement already satisfied: multidict<7.0,>=4.5 in /usr/local/lib/python3.11/dist-packages (from aiohttp<4.0.0,>=3.8.3->langchain_community) (6.4.3)\n",
            "Requirement already satisfied: propcache>=0.2.0 in /usr/local/lib/python3.11/dist-packages (from aiohttp<4.0.0,>=3.8.3->langchain_community) (0.3.1)\n",
            "Requirement already satisfied: yarl<2.0,>=1.17.0 in /usr/local/lib/python3.11/dist-packages (from aiohttp<4.0.0,>=3.8.3->langchain_community) (1.20.0)\n",
            "Requirement already satisfied: anyio<5,>=3.5.0 in /usr/local/lib/python3.11/dist-packages (from anthropic<1,>=0.49.0->langchain_anthropic) (4.9.0)\n",
            "Requirement already satisfied: distro<2,>=1.7.0 in /usr/local/lib/python3.11/dist-packages (from anthropic<1,>=0.49.0->langchain_anthropic) (1.9.0)\n",
            "Requirement already satisfied: httpx<1,>=0.25.0 in /usr/local/lib/python3.11/dist-packages (from anthropic<1,>=0.49.0->langchain_anthropic) (0.28.1)\n",
            "Requirement already satisfied: jiter<1,>=0.4.0 in /usr/local/lib/python3.11/dist-packages (from anthropic<1,>=0.49.0->langchain_anthropic) (0.9.0)\n",
            "Requirement already satisfied: sniffio in /usr/local/lib/python3.11/dist-packages (from anthropic<1,>=0.49.0->langchain_anthropic) (1.3.1)\n",
            "Requirement already satisfied: typing-extensions<5,>=4.10 in /usr/local/lib/python3.11/dist-packages (from anthropic<1,>=0.49.0->langchain_anthropic) (4.13.2)\n",
            "Requirement already satisfied: marshmallow<4.0.0,>=3.18.0 in /usr/local/lib/python3.11/dist-packages (from dataclasses-json<0.7,>=0.5.7->langchain_community) (3.26.1)\n",
            "Requirement already satisfied: typing-inspect<1,>=0.4.0 in /usr/local/lib/python3.11/dist-packages (from dataclasses-json<0.7,>=0.5.7->langchain_community) (0.9.0)\n",
            "Requirement already satisfied: langchain-text-splitters<1.0.0,>=0.3.8 in /usr/local/lib/python3.11/dist-packages (from langchain<1.0.0,>=0.3.24->langchain_community) (0.3.8)\n",
            "Requirement already satisfied: jsonpatch<2.0,>=1.33 in /usr/local/lib/python3.11/dist-packages (from langchain-core<1.0.0,>=0.3.56->langchain_community) (1.33)\n",
            "Requirement already satisfied: ormsgpack<2.0.0,>=1.8.0 in /usr/local/lib/python3.11/dist-packages (from langgraph-checkpoint<3.0.0,>=2.0.10->langgraph) (1.9.1)\n",
            "Requirement already satisfied: orjson>=3.10.1 in /usr/local/lib/python3.11/dist-packages (from langgraph-sdk>=0.1.42->langgraph) (3.10.17)\n",
            "Requirement already satisfied: requests-toolbelt<2.0.0,>=1.0.0 in /usr/local/lib/python3.11/dist-packages (from langsmith<0.4,>=0.1.125->langchain_community) (1.0.0)\n",
            "Requirement already satisfied: zstandard<0.24.0,>=0.23.0 in /usr/local/lib/python3.11/dist-packages (from langsmith<0.4,>=0.1.125->langchain_community) (0.23.0)\n",
            "Requirement already satisfied: annotated-types>=0.6.0 in /usr/local/lib/python3.11/dist-packages (from pydantic<3.0.0,>=2.7.4->langchain_anthropic) (0.7.0)\n",
            "Requirement already satisfied: pydantic-core==2.33.1 in /usr/local/lib/python3.11/dist-packages (from pydantic<3.0.0,>=2.7.4->langchain_anthropic) (2.33.1)\n",
            "Requirement already satisfied: typing-inspection>=0.4.0 in /usr/local/lib/python3.11/dist-packages (from pydantic<3.0.0,>=2.7.4->langchain_anthropic) (0.4.0)\n",
            "Requirement already satisfied: python-dotenv>=0.21.0 in /usr/local/lib/python3.11/dist-packages (from pydantic-settings<3.0.0,>=2.4.0->langchain_community) (1.1.0)\n",
            "Requirement already satisfied: six>=1.5 in /usr/local/lib/python3.11/dist-packages (from python-dateutil>=2.7->matplotlib) (1.17.0)\n",
            "Requirement already satisfied: charset-normalizer<4,>=2 in /usr/local/lib/python3.11/dist-packages (from requests<3,>=2->langchain_community) (3.4.1)\n",
            "Requirement already satisfied: idna<4,>=2.5 in /usr/local/lib/python3.11/dist-packages (from requests<3,>=2->langchain_community) (3.10)\n",
            "Requirement already satisfied: urllib3<3,>=1.21.1 in /usr/local/lib/python3.11/dist-packages (from requests<3,>=2->langchain_community) (2.4.0)\n",
            "Requirement already satisfied: certifi>=2017.4.17 in /usr/local/lib/python3.11/dist-packages (from requests<3,>=2->langchain_community) (2025.4.26)\n",
            "Requirement already satisfied: greenlet>=1 in /usr/local/lib/python3.11/dist-packages (from SQLAlchemy<3,>=1.4->langchain_community) (3.2.1)\n",
            "Requirement already satisfied: httpcore==1.* in /usr/local/lib/python3.11/dist-packages (from httpx<1,>=0.25.0->anthropic<1,>=0.49.0->langchain_anthropic) (1.0.9)\n",
            "Requirement already satisfied: h11>=0.16 in /usr/local/lib/python3.11/dist-packages (from httpcore==1.*->httpx<1,>=0.25.0->anthropic<1,>=0.49.0->langchain_anthropic) (0.16.0)\n",
            "Requirement already satisfied: jsonpointer>=1.9 in /usr/local/lib/python3.11/dist-packages (from jsonpatch<2.0,>=1.33->langchain-core<1.0.0,>=0.3.56->langchain_community) (3.0.0)\n",
            "Requirement already satisfied: mypy-extensions>=0.3.0 in /usr/local/lib/python3.11/dist-packages (from typing-inspect<1,>=0.4.0->dataclasses-json<0.7,>=0.5.7->langchain_community) (1.1.0)\n",
            "Requirement already satisfied: duckduckgo-search in /usr/local/lib/python3.11/dist-packages (8.0.1)\n",
            "Requirement already satisfied: click>=8.1.8 in /usr/local/lib/python3.11/dist-packages (from duckduckgo-search) (8.1.8)\n",
            "Requirement already satisfied: primp>=0.15.0 in /usr/local/lib/python3.11/dist-packages (from duckduckgo-search) (0.15.0)\n",
            "Requirement already satisfied: lxml>=5.3.0 in /usr/local/lib/python3.11/dist-packages (from duckduckgo-search) (5.4.0)\n",
            "Collecting langchain-openai\n",
            "  Downloading langchain_openai-0.3.16-py3-none-any.whl.metadata (2.3 kB)\n",
            "Collecting langchain-core<1.0.0,>=0.3.58 (from langchain-openai)\n",
            "  Downloading langchain_core-0.3.58-py3-none-any.whl.metadata (5.9 kB)\n",
            "Requirement already satisfied: openai<2.0.0,>=1.68.2 in /usr/local/lib/python3.11/dist-packages (from langchain-openai) (1.76.0)\n",
            "Collecting tiktoken<1,>=0.7 (from langchain-openai)\n",
            "  Downloading tiktoken-0.9.0-cp311-cp311-manylinux_2_17_x86_64.manylinux2014_x86_64.whl.metadata (6.7 kB)\n",
            "Requirement already satisfied: langsmith<0.4,>=0.1.125 in /usr/local/lib/python3.11/dist-packages (from langchain-core<1.0.0,>=0.3.58->langchain-openai) (0.3.38)\n",
            "Requirement already satisfied: tenacity!=8.4.0,<10.0.0,>=8.1.0 in /usr/local/lib/python3.11/dist-packages (from langchain-core<1.0.0,>=0.3.58->langchain-openai) (9.1.2)\n",
            "Requirement already satisfied: jsonpatch<2.0,>=1.33 in /usr/local/lib/python3.11/dist-packages (from langchain-core<1.0.0,>=0.3.58->langchain-openai) (1.33)\n",
            "Requirement already satisfied: PyYAML>=5.3 in /usr/local/lib/python3.11/dist-packages (from langchain-core<1.0.0,>=0.3.58->langchain-openai) (6.0.2)\n",
            "Requirement already satisfied: packaging<25,>=23.2 in /usr/local/lib/python3.11/dist-packages (from langchain-core<1.0.0,>=0.3.58->langchain-openai) (24.2)\n",
            "Requirement already satisfied: typing-extensions>=4.7 in /usr/local/lib/python3.11/dist-packages (from langchain-core<1.0.0,>=0.3.58->langchain-openai) (4.13.2)\n",
            "Requirement already satisfied: pydantic<3.0.0,>=2.5.2 in /usr/local/lib/python3.11/dist-packages (from langchain-core<1.0.0,>=0.3.58->langchain-openai) (2.11.3)\n",
            "Requirement already satisfied: anyio<5,>=3.5.0 in /usr/local/lib/python3.11/dist-packages (from openai<2.0.0,>=1.68.2->langchain-openai) (4.9.0)\n",
            "Requirement already satisfied: distro<2,>=1.7.0 in /usr/local/lib/python3.11/dist-packages (from openai<2.0.0,>=1.68.2->langchain-openai) (1.9.0)\n",
            "Requirement already satisfied: httpx<1,>=0.23.0 in /usr/local/lib/python3.11/dist-packages (from openai<2.0.0,>=1.68.2->langchain-openai) (0.28.1)\n",
            "Requirement already satisfied: jiter<1,>=0.4.0 in /usr/local/lib/python3.11/dist-packages (from openai<2.0.0,>=1.68.2->langchain-openai) (0.9.0)\n",
            "Requirement already satisfied: sniffio in /usr/local/lib/python3.11/dist-packages (from openai<2.0.0,>=1.68.2->langchain-openai) (1.3.1)\n",
            "Requirement already satisfied: tqdm>4 in /usr/local/lib/python3.11/dist-packages (from openai<2.0.0,>=1.68.2->langchain-openai) (4.67.1)\n",
            "Requirement already satisfied: regex>=2022.1.18 in /usr/local/lib/python3.11/dist-packages (from tiktoken<1,>=0.7->langchain-openai) (2024.11.6)\n",
            "Requirement already satisfied: requests>=2.26.0 in /usr/local/lib/python3.11/dist-packages (from tiktoken<1,>=0.7->langchain-openai) (2.32.3)\n",
            "Requirement already satisfied: idna>=2.8 in /usr/local/lib/python3.11/dist-packages (from anyio<5,>=3.5.0->openai<2.0.0,>=1.68.2->langchain-openai) (3.10)\n",
            "Requirement already satisfied: certifi in /usr/local/lib/python3.11/dist-packages (from httpx<1,>=0.23.0->openai<2.0.0,>=1.68.2->langchain-openai) (2025.4.26)\n",
            "Requirement already satisfied: httpcore==1.* in /usr/local/lib/python3.11/dist-packages (from httpx<1,>=0.23.0->openai<2.0.0,>=1.68.2->langchain-openai) (1.0.9)\n",
            "Requirement already satisfied: h11>=0.16 in /usr/local/lib/python3.11/dist-packages (from httpcore==1.*->httpx<1,>=0.23.0->openai<2.0.0,>=1.68.2->langchain-openai) (0.16.0)\n",
            "Requirement already satisfied: jsonpointer>=1.9 in /usr/local/lib/python3.11/dist-packages (from jsonpatch<2.0,>=1.33->langchain-core<1.0.0,>=0.3.58->langchain-openai) (3.0.0)\n",
            "Requirement already satisfied: orjson<4.0.0,>=3.9.14 in /usr/local/lib/python3.11/dist-packages (from langsmith<0.4,>=0.1.125->langchain-core<1.0.0,>=0.3.58->langchain-openai) (3.10.17)\n",
            "Requirement already satisfied: requests-toolbelt<2.0.0,>=1.0.0 in /usr/local/lib/python3.11/dist-packages (from langsmith<0.4,>=0.1.125->langchain-core<1.0.0,>=0.3.58->langchain-openai) (1.0.0)\n",
            "Requirement already satisfied: zstandard<0.24.0,>=0.23.0 in /usr/local/lib/python3.11/dist-packages (from langsmith<0.4,>=0.1.125->langchain-core<1.0.0,>=0.3.58->langchain-openai) (0.23.0)\n",
            "Requirement already satisfied: annotated-types>=0.6.0 in /usr/local/lib/python3.11/dist-packages (from pydantic<3.0.0,>=2.5.2->langchain-core<1.0.0,>=0.3.58->langchain-openai) (0.7.0)\n",
            "Requirement already satisfied: pydantic-core==2.33.1 in /usr/local/lib/python3.11/dist-packages (from pydantic<3.0.0,>=2.5.2->langchain-core<1.0.0,>=0.3.58->langchain-openai) (2.33.1)\n",
            "Requirement already satisfied: typing-inspection>=0.4.0 in /usr/local/lib/python3.11/dist-packages (from pydantic<3.0.0,>=2.5.2->langchain-core<1.0.0,>=0.3.58->langchain-openai) (0.4.0)\n",
            "Requirement already satisfied: charset-normalizer<4,>=2 in /usr/local/lib/python3.11/dist-packages (from requests>=2.26.0->tiktoken<1,>=0.7->langchain-openai) (3.4.1)\n",
            "Requirement already satisfied: urllib3<3,>=1.21.1 in /usr/local/lib/python3.11/dist-packages (from requests>=2.26.0->tiktoken<1,>=0.7->langchain-openai) (2.4.0)\n",
            "Downloading langchain_openai-0.3.16-py3-none-any.whl (62 kB)\n",
            "\u001b[2K   \u001b[90m━━━━━━━━━━━━━━━━━━━━━━━━━━━━━━━━━━━━━━━━\u001b[0m \u001b[32m62.8/62.8 kB\u001b[0m \u001b[31m5.4 MB/s\u001b[0m eta \u001b[36m0:00:00\u001b[0m\n",
            "\u001b[?25hDownloading langchain_core-0.3.58-py3-none-any.whl (437 kB)\n",
            "\u001b[2K   \u001b[90m━━━━━━━━━━━━━━━━━━━━━━━━━━━━━━━━━━━━━━━━\u001b[0m \u001b[32m437.6/437.6 kB\u001b[0m \u001b[31m24.9 MB/s\u001b[0m eta \u001b[36m0:00:00\u001b[0m\n",
            "\u001b[?25hDownloading tiktoken-0.9.0-cp311-cp311-manylinux_2_17_x86_64.manylinux2014_x86_64.whl (1.2 MB)\n",
            "\u001b[2K   \u001b[90m━━━━━━━━━━━━━━━━━━━━━━━━━━━━━━━━━━━━━━━━\u001b[0m \u001b[32m1.2/1.2 MB\u001b[0m \u001b[31m49.7 MB/s\u001b[0m eta \u001b[36m0:00:00\u001b[0m\n",
            "\u001b[?25hInstalling collected packages: tiktoken, langchain-core, langchain-openai\n",
            "  Attempting uninstall: langchain-core\n",
            "    Found existing installation: langchain-core 0.3.56\n",
            "    Uninstalling langchain-core-0.3.56:\n",
            "      Successfully uninstalled langchain-core-0.3.56\n",
            "Successfully installed langchain-core-0.3.58 langchain-openai-0.3.16 tiktoken-0.9.0\n"
          ]
        }
      ],
      "source": [
        "%pip install python-dotenv langchain langchain-community langchain_groq\n",
        "%pip install -U langchain_community langchain_anthropic langchain_experimental matplotlib langgraph\n",
        "%pip install -U duckduckgo-search\n",
        "%pip install -U langchain-openai"
      ]
    },
    {
      "cell_type": "code",
      "execution_count": null,
      "metadata": {
        "id": "wW7kENJDF1B_"
      },
      "outputs": [],
      "source": [
        "os.environ[\"OPENAI_API_KEY\"] = \"YOUR_API_KEY\""
      ]
    },
    {
      "cell_type": "code",
      "execution_count": 25,
      "metadata": {
        "colab": {
          "base_uri": "https://localhost:8080/"
        },
        "id": "Gyo9uHIk_tAn",
        "outputId": "ed071d56-70de-400c-cc75-4eba828e0c54"
      },
      "outputs": [
        {
          "data": {
            "text/plain": [
              "False"
            ]
          },
          "execution_count": 25,
          "metadata": {},
          "output_type": "execute_result"
        }
      ],
      "source": [
        "import os\n",
        "from dotenv import load_dotenv\n",
        "from langchain.agents import Tool, AgentExecutor, create_react_agent\n",
        "from langchain.tools import DuckDuckGoSearchRun\n",
        "from langchain_groq import ChatGroq\n",
        "from langchain.prompts import PromptTemplate\n",
        "from langchain.memory import ConversationBufferMemory\n",
        "# Load environment variables\n",
        "load_dotenv()"
      ]
    },
    {
      "cell_type": "code",
      "execution_count": 26,
      "metadata": {
        "colab": {
          "base_uri": "https://localhost:8080/"
        },
        "id": "sXZFG69KAyau",
        "outputId": "bb406732-78a0-4beb-9cac-a33a1e24ac85"
      },
      "outputs": [
        {
          "name": "stdout",
          "output_type": "stream",
          "text": [
            "Drive already mounted at /content/drive; to attempt to forcibly remount, call drive.mount(\"/content/drive\", force_remount=True).\n"
          ]
        },
        {
          "name": "stderr",
          "output_type": "stream",
          "text": [
            "\rProcessing SQuAD examples:   0%|          | 0/100 [00:00<?, ?it/s]"
          ]
        },
        {
          "name": "stdout",
          "output_type": "stream",
          "text": [
            "\n",
            "\n",
            "=== Processing Question 1/100 ===\n",
            "ID: 56ddde6b9a695914005b9628\n",
            "Question: In what country is Normandy located?\n"
          ]
        },
        {
          "name": "stderr",
          "output_type": "stream",
          "text": [
            "\rProcessing SQuAD examples:   1%|          | 1/100 [00:08<14:50,  8.99s/it]"
          ]
        },
        {
          "name": "stdout",
          "output_type": "stream",
          "text": [
            "\n",
            "=== Final Answer ===\n",
            "France\n",
            "\n",
            "\n",
            "=== Processing Question 2/100 ===\n",
            "ID: 56ddde6b9a695914005b9629\n",
            "Question: When were the Normans in Normandy?\n"
          ]
        },
        {
          "name": "stderr",
          "output_type": "stream",
          "text": [
            "\rProcessing SQuAD examples:   2%|▏         | 2/100 [00:17<14:22,  8.81s/it]"
          ]
        },
        {
          "name": "stdout",
          "output_type": "stream",
          "text": [
            "\n",
            "=== Final Answer ===\n",
            "10th and 11th centuries\n",
            "\n",
            "\n",
            "=== Processing Question 3/100 ===\n",
            "ID: 56ddde6b9a695914005b962a\n",
            "Question: From which countries did the Norse originate?\n"
          ]
        },
        {
          "name": "stderr",
          "output_type": "stream",
          "text": [
            "\rProcessing SQuAD examples:   3%|▎         | 3/100 [00:28<15:32,  9.62s/it]"
          ]
        },
        {
          "name": "stdout",
          "output_type": "stream",
          "text": [
            "\n",
            "=== Final Answer ===\n",
            "Denmark, Iceland, Norway\n",
            "\n",
            "\n",
            "=== Processing Question 4/100 ===\n",
            "ID: 56ddde6b9a695914005b962b\n",
            "Question: Who was the Norse leader?\n"
          ]
        },
        {
          "name": "stderr",
          "output_type": "stream",
          "text": [
            "\rProcessing SQuAD examples:   4%|▍         | 4/100 [00:37<15:22,  9.61s/it]"
          ]
        },
        {
          "name": "stdout",
          "output_type": "stream",
          "text": [
            "\n",
            "=== Final Answer ===\n",
            "Rollo\n",
            "\n",
            "\n",
            "=== Processing Question 5/100 ===\n",
            "ID: 56ddde6b9a695914005b962c\n",
            "Question: What century did the Normans first gain their separate identity?\n"
          ]
        },
        {
          "name": "stderr",
          "output_type": "stream",
          "text": [
            "\rProcessing SQuAD examples:   5%|▌         | 5/100 [00:48<16:01, 10.12s/it]"
          ]
        },
        {
          "name": "stdout",
          "output_type": "stream",
          "text": [
            "\n",
            "=== Final Answer ===\n",
            "10th century\n",
            "\n",
            "\n",
            "=== Processing Question 6/100 ===\n",
            "ID: 5ad39d53604f3c001a3fe8d1\n",
            "Question: Who gave their name to Normandy in the 1000's and 1100's\n"
          ]
        },
        {
          "name": "stderr",
          "output_type": "stream",
          "text": [
            "\rProcessing SQuAD examples:   6%|▌         | 6/100 [01:05<19:30, 12.46s/it]"
          ]
        },
        {
          "name": "stdout",
          "output_type": "stream",
          "text": [
            "\n",
            "=== Final Answer ===\n",
            "Normans\n",
            "\n",
            "\n",
            "=== Processing Question 7/100 ===\n",
            "ID: 5ad39d53604f3c001a3fe8d2\n",
            "Question: What is France a region of?\n"
          ]
        },
        {
          "name": "stderr",
          "output_type": "stream",
          "text": [
            "\rProcessing SQuAD examples:   7%|▋         | 7/100 [01:21<20:53, 13.48s/it]"
          ]
        },
        {
          "name": "stdout",
          "output_type": "stream",
          "text": [
            "\n",
            "=== Final Answer ===\n",
            "The provided context does not contain information that specifies what France is a region of. It only mentions Normandy as a region within France. Therefore, the question cannot be answered based on the given context.\n",
            "\n",
            "Answer (just the answer string, or empty string if unanswerable): \n",
            "\"\"\n",
            "\n",
            "\n",
            "=== Processing Question 8/100 ===\n",
            "ID: 5ad39d53604f3c001a3fe8d3\n",
            "Question: Who did King Charles III swear fealty to?\n"
          ]
        },
        {
          "name": "stderr",
          "output_type": "stream",
          "text": [
            "\rProcessing SQuAD examples:   8%|▊         | 8/100 [01:44<25:08, 16.39s/it]"
          ]
        },
        {
          "name": "stdout",
          "output_type": "stream",
          "text": [
            "\n",
            "=== Final Answer ===\n",
            "The context states that the Norse raiders, led by Rollo, \"agreed to swear fealty to King Charles III of West Francia.\" The question asks who King Charles III swore fealty to, which is the reverse of the information provided. Therefore, the answer cannot be derived from the given context.\n",
            "\n",
            "Answer (just the answer string, or empty string if unanswerable):\n",
            "\n",
            "\n",
            "=== Processing Question 9/100 ===\n",
            "ID: 5ad39d53604f3c001a3fe8d4\n",
            "Question: When did the Frankish identity emerge?\n"
          ]
        },
        {
          "name": "stderr",
          "output_type": "stream",
          "text": [
            "\rProcessing SQuAD examples:   9%|▉         | 9/100 [01:55<22:18, 14.71s/it]"
          ]
        },
        {
          "name": "stdout",
          "output_type": "stream",
          "text": [
            "\n",
            "=== Final Answer ===\n",
            "Answer (just the answer string, or empty string if unanswerable):\n",
            "\n",
            "\n",
            "=== Processing Question 10/100 ===\n",
            "ID: 56dddf4066d3e219004dad5f\n",
            "Question: Who was the duke in the battle of Hastings?\n"
          ]
        },
        {
          "name": "stderr",
          "output_type": "stream",
          "text": [
            "\rProcessing SQuAD examples:  10%|█         | 10/100 [02:04<19:31, 13.02s/it]"
          ]
        },
        {
          "name": "stdout",
          "output_type": "stream",
          "text": [
            "\n",
            "=== Final Answer ===\n",
            "William the Conqueror\n",
            "Checkpoint saved: 10 questions processed\n",
            "\n",
            "\n",
            "=== Processing Question 11/100 ===\n",
            "ID: 56dddf4066d3e219004dad60\n",
            "Question: Who ruled the duchy of Normandy\n"
          ]
        },
        {
          "name": "stderr",
          "output_type": "stream",
          "text": [
            "\rProcessing SQuAD examples:  11%|█         | 11/100 [02:13<17:32, 11.82s/it]"
          ]
        },
        {
          "name": "stdout",
          "output_type": "stream",
          "text": [
            "\n",
            "=== Final Answer ===\n",
            "Richard I of Normandy\n",
            "\n",
            "\n",
            "=== Processing Question 12/100 ===\n",
            "ID: 56dddf4066d3e219004dad61\n",
            "Question: What religion were the Normans\n"
          ]
        },
        {
          "name": "stderr",
          "output_type": "stream",
          "text": [
            "\rProcessing SQuAD examples:  12%|█▏        | 12/100 [02:24<16:56, 11.55s/it]"
          ]
        },
        {
          "name": "stdout",
          "output_type": "stream",
          "text": [
            "\n",
            "=== Final Answer ===\n",
            "Catholic\n",
            "\n",
            "\n",
            "=== Processing Question 13/100 ===\n",
            "ID: 5ad3a266604f3c001a3fea27\n",
            "Question: What type of major impact did the Norman dynasty have on modern Europe?\n"
          ]
        },
        {
          "name": "stderr",
          "output_type": "stream",
          "text": [
            "\rProcessing SQuAD examples:  13%|█▎        | 13/100 [02:46<21:17, 14.68s/it]"
          ]
        },
        {
          "name": "stdout",
          "output_type": "stream",
          "text": [
            "\n",
            "=== Final Answer ===\n",
            "Answer (just the answer string, or empty string if unanswerable):\n",
            "\n",
            "\n",
            "=== Processing Question 14/100 ===\n",
            "ID: 5ad3a266604f3c001a3fea28\n",
            "Question: Who was famed for their Christian spirit?\n"
          ]
        },
        {
          "name": "stderr",
          "output_type": "stream",
          "text": [
            "\rProcessing SQuAD examples:  14%|█▍        | 14/100 [02:55<18:35, 12.98s/it]"
          ]
        },
        {
          "name": "stdout",
          "output_type": "stream",
          "text": [
            "\n",
            "=== Final Answer ===\n",
            "Normans\n",
            "\n",
            "\n",
            "=== Processing Question 15/100 ===\n",
            "ID: 5ad3a266604f3c001a3fea29\n",
            "Question: Who assimilted the Roman language?\n"
          ]
        },
        {
          "name": "stderr",
          "output_type": "stream",
          "text": [
            "\rProcessing SQuAD examples:  15%|█▌        | 15/100 [03:06<17:29, 12.35s/it]"
          ]
        },
        {
          "name": "stdout",
          "output_type": "stream",
          "text": [
            "\n",
            "=== Final Answer ===\n",
            "Normans\n",
            "\n",
            "\n",
            "=== Processing Question 16/100 ===\n",
            "ID: 5ad3a266604f3c001a3fea2a\n",
            "Question: Who ruled the country of Normandy?\n"
          ]
        },
        {
          "name": "stderr",
          "output_type": "stream",
          "text": [
            "\rProcessing SQuAD examples:  16%|█▌        | 16/100 [04:28<46:42, 33.36s/it]"
          ]
        },
        {
          "name": "stdout",
          "output_type": "stream",
          "text": [
            "\n",
            "=== Final Answer ===\n",
            "Richard I of Normandy\n",
            "\n",
            "\n",
            "=== Processing Question 17/100 ===\n",
            "ID: 5ad3a266604f3c001a3fea2b\n",
            "Question: What principality did William the conquerer found?\n"
          ]
        },
        {
          "name": "stderr",
          "output_type": "stream",
          "text": [
            "\rProcessing SQuAD examples:  17%|█▋        | 17/100 [04:40<37:24, 27.04s/it]"
          ]
        },
        {
          "name": "stdout",
          "output_type": "stream",
          "text": [
            "\n",
            "=== Final Answer ===\n",
            "Answer:\n",
            "\n",
            "\n",
            "=== Processing Question 18/100 ===\n",
            "ID: 56dde0379a695914005b9636\n",
            "Question: What is the original meaning of the word Norman?\n"
          ]
        },
        {
          "name": "stderr",
          "output_type": "stream",
          "text": [
            "\rProcessing SQuAD examples:  18%|█▊        | 18/100 [05:07<36:47, 26.92s/it]"
          ]
        },
        {
          "name": "stdout",
          "output_type": "stream",
          "text": [
            "\n",
            "=== Final Answer ===\n",
            "Northman\n",
            "\n",
            "\n",
            "=== Processing Question 19/100 ===\n",
            "ID: 56dde0379a695914005b9637\n",
            "Question: When was the Latin version of the word Norman first recorded?\n"
          ]
        },
        {
          "name": "stderr",
          "output_type": "stream",
          "text": [
            "\rProcessing SQuAD examples:  19%|█▉        | 19/100 [05:15<28:42, 21.27s/it]"
          ]
        },
        {
          "name": "stdout",
          "output_type": "stream",
          "text": [
            "\n",
            "=== Final Answer ===\n",
            "9th century\n",
            "\n",
            "\n",
            "=== Processing Question 20/100 ===\n",
            "ID: 5ad3ab70604f3c001a3feb89\n",
            "Question: What name comes from the English words Normans/Normanz?\n"
          ]
        },
        {
          "name": "stderr",
          "output_type": "stream",
          "text": [
            "\rProcessing SQuAD examples:  20%|██        | 20/100 [05:41<30:12, 22.66s/it]"
          ]
        },
        {
          "name": "stdout",
          "output_type": "stream",
          "text": [
            "\n",
            "=== Final Answer ===\n",
            "The question as posed contains a misconception. The context states that the English name \"Normans\" derives from the French words *Normans/Normanz*, not the reverse. Since the question incorrectly attributes the origin to \"English words,\" the answer cannot be derived from the provided context. \n",
            "\n",
            "Answer:\n",
            "Checkpoint saved: 20 questions processed\n",
            "\n",
            "\n",
            "=== Processing Question 21/100 ===\n",
            "ID: 5ad3ab70604f3c001a3feb8a\n",
            "Question: When was the French version of the word Norman first recorded?\n"
          ]
        },
        {
          "name": "stderr",
          "output_type": "stream",
          "text": [
            "\rProcessing SQuAD examples:  21%|██        | 21/100 [06:16<34:39, 26.33s/it]"
          ]
        },
        {
          "name": "stdout",
          "output_type": "stream",
          "text": [
            "\n",
            "=== Final Answer ===\n",
            "The context provided states that the Latinized forms (Nortmannus, Normannus, Nordmannus) were recorded in Medieval Latin during the 9th century. However, it does not explicitly specify when the French version of the word (\"normand\") was first recorded. While the term evolved from these Latinized forms into modern French, the exact date of its first recording in French is not mentioned in the given context. Therefore, the answer cannot be determined from the provided information.\n",
            "\n",
            "Answer:\n",
            "\n",
            "\n",
            "=== Processing Question 22/100 ===\n",
            "ID: 56dde0ba66d3e219004dad75\n",
            "Question: When was the Duchy of Normandy founded?\n"
          ]
        },
        {
          "name": "stderr",
          "output_type": "stream",
          "text": [
            "\rProcessing SQuAD examples:  22%|██▏       | 22/100 [06:25<27:39, 21.28s/it]"
          ]
        },
        {
          "name": "stdout",
          "output_type": "stream",
          "text": [
            "\n",
            "=== Final Answer ===\n",
            "911\n",
            "\n",
            "\n",
            "=== Processing Question 23/100 ===\n",
            "ID: 56dde0ba66d3e219004dad76\n",
            "Question: Who did Rollo sign the treaty of Saint-Clair-sur-Epte with?\n"
          ]
        },
        {
          "name": "stderr",
          "output_type": "stream",
          "text": [
            "\rProcessing SQuAD examples:  23%|██▎       | 23/100 [06:37<23:38, 18.42s/it]"
          ]
        },
        {
          "name": "stdout",
          "output_type": "stream",
          "text": [
            "\n",
            "=== Final Answer ===\n",
            "Charles III of West Francia\n",
            "\n",
            "\n",
            "=== Processing Question 24/100 ===\n",
            "ID: 56dde0ba66d3e219004dad77\n",
            "Question: What river originally bounded the Duchy\n"
          ]
        },
        {
          "name": "stderr",
          "output_type": "stream",
          "text": [
            "\rProcessing SQuAD examples:  24%|██▍       | 24/100 [06:46<19:36, 15.48s/it]"
          ]
        },
        {
          "name": "stdout",
          "output_type": "stream",
          "text": [
            "\n",
            "=== Final Answer ===\n",
            "Epte\n",
            "\n",
            "\n",
            "=== Processing Question 25/100 ===\n",
            "ID: 5ad3ad61604f3c001a3fec0d\n",
            "Question: when did Nors encampments ivolve into destructive incursions?\n"
          ]
        },
        {
          "name": "stderr",
          "output_type": "stream",
          "text": [
            "\rProcessing SQuAD examples:  25%|██▌       | 25/100 [07:10<22:49, 18.26s/it]"
          ]
        },
        {
          "name": "stdout",
          "output_type": "stream",
          "text": [
            "\n",
            "=== Final Answer ===\n",
            "The context states that destructive incursions evolved into permanent encampments during the 10th century. The question inverts this relationship, asking when encampments became destructive incursions, which contradicts the provided information. Since the timeline specified in the context does not support this reversed progression, the answer is unanswerable. \n",
            "\n",
            "Answer (just the answer string, or empty string if unanswerable):  \n",
            "\"\"\n",
            "\n",
            "\n",
            "=== Processing Question 26/100 ===\n",
            "ID: 5ad3ad61604f3c001a3fec0e\n",
            "Question: What treaty was established in the 9th century?\n"
          ]
        },
        {
          "name": "stderr",
          "output_type": "stream",
          "text": [
            "\rProcessing SQuAD examples:  26%|██▌       | 26/100 [07:20<19:22, 15.70s/it]"
          ]
        },
        {
          "name": "stdout",
          "output_type": "stream",
          "text": [
            "\n",
            "=== Final Answer ===\n",
            "Answer (just the answer string, or empty string if unanswerable):\n",
            "\n",
            "\n",
            "=== Processing Question 27/100 ===\n",
            "ID: 5ad3ad61604f3c001a3fec0f\n",
            "Question: Who established a treaty with King Charles the third of France?\n"
          ]
        },
        {
          "name": "stderr",
          "output_type": "stream",
          "text": [
            "\rProcessing SQuAD examples:  27%|██▋       | 27/100 [07:30<17:10, 14.12s/it]"
          ]
        },
        {
          "name": "stdout",
          "output_type": "stream",
          "text": [
            "\n",
            "=== Final Answer ===\n",
            "Rollo\n",
            "\n",
            "\n",
            "=== Processing Question 28/100 ===\n",
            "ID: 5ad3ad61604f3c001a3fec10\n",
            "Question: What did the French promises to protect Rollo and his men from?\n"
          ]
        },
        {
          "name": "stderr",
          "output_type": "stream",
          "text": [
            "\rProcessing SQuAD examples:  28%|██▊       | 28/100 [08:09<25:33, 21.29s/it]"
          ]
        },
        {
          "name": "stdout",
          "output_type": "stream",
          "text": [
            "\n",
            "=== Final Answer ===\n",
            "The French promised to protect Rollo and his men from further Viking incursions.\n",
            "\n",
            "Answer (just the answer string, or empty string if unanswerable): \n",
            "Further Viking incursions\n",
            "\n",
            "\n",
            "=== Processing Question 29/100 ===\n",
            "ID: 56dde1d966d3e219004dad8d\n",
            "Question: Who upon arriving gave the original viking settlers a common identity?\n"
          ]
        },
        {
          "name": "stderr",
          "output_type": "stream",
          "text": [
            "\rProcessing SQuAD examples:  29%|██▉       | 29/100 [08:24<22:57, 19.41s/it]"
          ]
        },
        {
          "name": "stdout",
          "output_type": "stream",
          "text": [
            "\n",
            "=== Final Answer ===\n",
            "Rollo\n",
            "\n",
            "\n",
            "=== Processing Question 30/100 ===\n",
            "ID: 5ad3ae14604f3c001a3fec39\n",
            "Question: When did Rollo begin to arrive in Normandy?\n"
          ]
        },
        {
          "name": "stderr",
          "output_type": "stream",
          "text": [
            "\rProcessing SQuAD examples:  30%|███       | 30/100 [08:51<25:38, 21.98s/it]"
          ]
        },
        {
          "name": "stdout",
          "output_type": "stream",
          "text": [
            "\n",
            "=== Final Answer ===\n",
            "Answer (just the answer string, or empty string if unanswerable):\n",
            "Checkpoint saved: 30 questions processed\n",
            "\n",
            "\n",
            "=== Processing Question 31/100 ===\n",
            "ID: 5ad3ae14604f3c001a3fec3a\n",
            "Question: What Viking groups were conquered by Rollo?\n"
          ]
        },
        {
          "name": "stderr",
          "output_type": "stream",
          "text": [
            "\rProcessing SQuAD examples:  31%|███       | 31/100 [09:27<29:58, 26.07s/it]"
          ]
        },
        {
          "name": "stdout",
          "output_type": "stream",
          "text": [
            "\n",
            "=== Final Answer ===\n",
            "The context provided does not explicitly state that Rollo conquered any specific Viking groups. Instead, it mentions that his contingents included Danes, Norwegians, Norse–Gaels, Orkney Vikings, possibly Swedes, and Anglo-Danes from the English Danelaw. There is no information indicating that these groups were conquered by Rollo; rather, they were part of his forces. Therefore, the question cannot be answered based on the given context.\n",
            "\n",
            "Answer (just the answer string, or empty string if unanswerable):\n",
            "\n",
            "\n",
            "=== Processing Question 32/100 ===\n",
            "ID: 56dde27d9a695914005b9651\n",
            "Question: What was the Norman religion?\n"
          ]
        },
        {
          "name": "stderr",
          "output_type": "stream",
          "text": [
            "\rProcessing SQuAD examples:  32%|███▏      | 32/100 [09:38<24:22, 21.51s/it]"
          ]
        },
        {
          "name": "stdout",
          "output_type": "stream",
          "text": [
            "\n",
            "=== Final Answer ===\n",
            "Catholicism (Christianity)\n",
            "\n",
            "\n",
            "=== Processing Question 33/100 ===\n",
            "ID: 56dde27d9a695914005b9652\n",
            "Question: What part of France were the Normans located?\n"
          ]
        },
        {
          "name": "stderr",
          "output_type": "stream",
          "text": [
            "\rProcessing SQuAD examples:  33%|███▎      | 33/100 [09:46<19:21, 17.33s/it]"
          ]
        },
        {
          "name": "stdout",
          "output_type": "stream",
          "text": [
            "\n",
            "=== Final Answer ===\n",
            "north of France\n",
            "\n",
            "\n",
            "=== Processing Question 34/100 ===\n",
            "ID: 5ad3af11604f3c001a3fec63\n",
            "Question: What was replace with the Norse religion?\n"
          ]
        },
        {
          "name": "stderr",
          "output_type": "stream",
          "text": [
            "\rProcessing SQuAD examples:  34%|███▍      | 34/100 [10:02<18:39, 16.96s/it]"
          ]
        },
        {
          "name": "stdout",
          "output_type": "stream",
          "text": [
            "\n",
            "=== Final Answer ===\n",
            "Catholicism\n",
            "\n",
            "\n",
            "=== Processing Question 35/100 ===\n",
            "ID: 5ad3af11604f3c001a3fec64\n",
            "Question: What did maternal Old Norse traditions merge with?\n"
          ]
        },
        {
          "name": "stderr",
          "output_type": "stream",
          "text": [
            "\rProcessing SQuAD examples:  35%|███▌      | 35/100 [10:12<16:20, 15.08s/it]"
          ]
        },
        {
          "name": "stdout",
          "output_type": "stream",
          "text": [
            "\n",
            "=== Final Answer ===\n",
            "Frankish heritage\n",
            "\n",
            "\n",
            "=== Processing Question 36/100 ===\n",
            "ID: 5ad3af11604f3c001a3fec65\n",
            "Question: What language replaced the Gallo-Romance language?\n"
          ]
        },
        {
          "name": "stderr",
          "output_type": "stream",
          "text": [
            "\rProcessing SQuAD examples:  36%|███▌      | 36/100 [10:51<23:35, 22.12s/it]"
          ]
        },
        {
          "name": "stdout",
          "output_type": "stream",
          "text": [
            "\n",
            "=== Final Answer ===\n",
            "Norman language\n",
            "\n",
            "\n",
            "=== Processing Question 37/100 ===\n",
            "ID: 56dde2fa66d3e219004dad9b\n",
            "Question: What was one of the Norman's major exports?\n"
          ]
        },
        {
          "name": "stderr",
          "output_type": "stream",
          "text": [
            "\rProcessing SQuAD examples:  37%|███▋      | 37/100 [11:03<19:56, 18.99s/it]"
          ]
        },
        {
          "name": "stdout",
          "output_type": "stream",
          "text": [
            "\n",
            "=== Final Answer ===\n",
            "fighting horsemen\n",
            "\n",
            "\n",
            "=== Processing Question 38/100 ===\n",
            "ID: 5ad3c626604f3c001a3ff011\n",
            "Question: Who adopted the fuedel doctrines of the Normans?\n"
          ]
        },
        {
          "name": "stderr",
          "output_type": "stream",
          "text": [
            "\rProcessing SQuAD examples:  38%|███▊      | 38/100 [11:22<19:45, 19.12s/it]"
          ]
        },
        {
          "name": "stdout",
          "output_type": "stream",
          "text": [
            "\n",
            "=== Final Answer ===\n",
            "The context states that the Normans adopted feudal doctrines from the rest of France, not that others adopted the Normans' doctrines. The question asks who adopted the feudal doctrines *of the Normans*, but the passage does not mention any group adopting doctrines from the Normans. Therefore, the answer is unanswerable based on the provided context.\n",
            "\n",
            "Answer:\n",
            "\n",
            "\n",
            "=== Processing Question 39/100 ===\n",
            "ID: 5ad3c626604f3c001a3ff012\n",
            "Question: What was one of the Norman's major imports?\n"
          ]
        },
        {
          "name": "stderr",
          "output_type": "stream",
          "text": [
            "\rProcessing SQuAD examples:  39%|███▉      | 39/100 [11:38<18:20, 18.05s/it]"
          ]
        },
        {
          "name": "stdout",
          "output_type": "stream",
          "text": [
            "\n",
            "=== Final Answer ===\n",
            "fighting horsemen\n",
            "\n",
            "\n",
            "=== Processing Question 40/100 ===\n",
            "ID: 5ad3c626604f3c001a3ff013\n",
            "Question: Who's arristocracy eventually served as avid Crusaders?\n"
          ]
        },
        {
          "name": "stderr",
          "output_type": "stream",
          "text": [
            "\rProcessing SQuAD examples:  40%|████      | 40/100 [11:52<16:55, 16.92s/it]"
          ]
        },
        {
          "name": "stdout",
          "output_type": "stream",
          "text": [
            "\n",
            "=== Final Answer ===\n",
            "Normans of Italy, France and England\n",
            "Checkpoint saved: 40 questions processed\n",
            "\n",
            "\n",
            "=== Processing Question 41/100 ===\n",
            "ID: 56de0f6a4396321400ee257f\n",
            "Question: Who was the Normans' main enemy in Italy, the Byzantine Empire and Armenia?\n"
          ]
        },
        {
          "name": "stderr",
          "output_type": "stream",
          "text": [
            "\rProcessing SQuAD examples:  41%|████      | 41/100 [12:07<16:12, 16.48s/it]"
          ]
        },
        {
          "name": "stdout",
          "output_type": "stream",
          "text": [
            "\n",
            "=== Final Answer ===\n",
            "Seljuk Turks\n",
            "\n",
            "\n",
            "=== Processing Question 42/100 ===\n",
            "ID: 5ad3dbc6604f3c001a3ff3e9\n",
            "Question: Who entered Italy soon after the Byzantine Empire?\n"
          ]
        },
        {
          "name": "stderr",
          "output_type": "stream",
          "text": [
            "\rProcessing SQuAD examples:  42%|████▏     | 42/100 [12:31<18:02, 18.66s/it]"
          ]
        },
        {
          "name": "stdout",
          "output_type": "stream",
          "text": [
            "\n",
            "=== Final Answer ===\n",
            "The question asks who entered Italy \"soon after the Byzantine Empire,\" but the context states that the Normans entered Italy **first**, then later entered the Byzantine Empire. The timeline in the question reverses the actual sequence of events described in the context. Since the Byzantine Empire's involvement occurred **after** the Normans began entering Italy, the question's premise is unanswerable as phrased.\n",
            "\n",
            "Answer:\n",
            "\n",
            "\n",
            "=== Processing Question 43/100 ===\n",
            "ID: 5ad3dbc6604f3c001a3ff3ea\n",
            "Question: Who did the Normans fight in Italy?\n"
          ]
        },
        {
          "name": "stderr",
          "output_type": "stream",
          "text": [
            "\rProcessing SQuAD examples:  43%|████▎     | 43/100 [12:45<16:24, 17.27s/it]"
          ]
        },
        {
          "name": "stdout",
          "output_type": "stream",
          "text": [
            "\n",
            "=== Final Answer ===\n",
            "Byzantines\n",
            "\n",
            "\n",
            "=== Processing Question 44/100 ===\n",
            "ID: 5ad3dbc6604f3c001a3ff3eb\n",
            "Question: Who did the Normans encourage to come to the south?\n"
          ]
        },
        {
          "name": "stderr",
          "output_type": "stream",
          "text": [
            "\rProcessing SQuAD examples:  44%|████▍     | 44/100 [13:00<15:30, 16.61s/it]"
          ]
        },
        {
          "name": "stdout",
          "output_type": "stream",
          "text": [
            "\n",
            "=== Final Answer ===\n",
            "The context states that Norman mercenaries were encouraged to come to the south by the Lombards, not that the Normans themselves encouraged others. The question's phrasing misrepresents the directional relationship described, making it unanswerable as posed.\n",
            "\n",
            "Answer:\n",
            "\n",
            "\n",
            "=== Processing Question 45/100 ===\n",
            "ID: 5ad3dbc6604f3c001a3ff3ec\n",
            "Question: During what campaign did the Vargian and Lombard fight?\n"
          ]
        },
        {
          "name": "stderr",
          "output_type": "stream",
          "text": [
            "\rProcessing SQuAD examples:  45%|████▌     | 45/100 [13:11<13:38, 14.88s/it]"
          ]
        },
        {
          "name": "stdout",
          "output_type": "stream",
          "text": [
            "\n",
            "=== Final Answer ===\n",
            "Sicilian campaign of George Maniaces in 1038–40\n",
            "\n",
            "\n",
            "=== Processing Question 46/100 ===\n",
            "ID: 56de0ffd4396321400ee258d\n",
            "Question: When did Herve serve as a Byzantine general?\n"
          ]
        },
        {
          "name": "stderr",
          "output_type": "stream",
          "text": [
            "\rProcessing SQuAD examples:  46%|████▌     | 46/100 [13:22<12:23, 13.77s/it]"
          ]
        },
        {
          "name": "stdout",
          "output_type": "stream",
          "text": [
            "\n",
            "=== Final Answer ===\n",
            "1050s\n",
            "\n",
            "\n",
            "=== Processing Question 47/100 ===\n",
            "ID: 56de0ffd4396321400ee258e\n",
            "Question: When did Robert Crispin go up against the Turks?\n"
          ]
        },
        {
          "name": "stderr",
          "output_type": "stream",
          "text": [
            "\rProcessing SQuAD examples:  47%|████▋     | 47/100 [13:32<11:01, 12.47s/it]"
          ]
        },
        {
          "name": "stdout",
          "output_type": "stream",
          "text": [
            "\n",
            "=== Final Answer ===\n",
            "1060s\n",
            "\n",
            "\n",
            "=== Processing Question 48/100 ===\n",
            "ID: 56de0ffd4396321400ee258f\n",
            "Question: Who ruined Roussel de Bailleul's plans for an independent state?\n"
          ]
        },
        {
          "name": "stderr",
          "output_type": "stream",
          "text": [
            "\rProcessing SQuAD examples:  48%|████▊     | 48/100 [13:43<10:28, 12.08s/it]"
          ]
        },
        {
          "name": "stdout",
          "output_type": "stream",
          "text": [
            "\n",
            "=== Final Answer ===\n",
            "Alexius Komnenos\n",
            "\n",
            "\n",
            "=== Processing Question 49/100 ===\n",
            "ID: 5ad3de8b604f3c001a3ff467\n",
            "Question: Who was the first Byzantine mercenary to serve with the Normans?\n"
          ]
        },
        {
          "name": "stderr",
          "output_type": "stream",
          "text": [
            "\rProcessing SQuAD examples:  49%|████▉     | 49/100 [13:58<11:02, 12.98s/it]"
          ]
        },
        {
          "name": "stdout",
          "output_type": "stream",
          "text": [
            "\n",
            "=== Final Answer ===\n",
            "Answer (just the answer string, or empty string if unanswerable):\n",
            "\n",
            "\n",
            "=== Processing Question 50/100 ===\n",
            "ID: 5ad3de8b604f3c001a3ff468\n",
            "Question: When did Herve serve as a Norman general?\n"
          ]
        },
        {
          "name": "stderr",
          "output_type": "stream",
          "text": [
            "\rProcessing SQuAD examples:  50%|█████     | 50/100 [14:07<09:56, 11.92s/it]"
          ]
        },
        {
          "name": "stdout",
          "output_type": "stream",
          "text": [
            "\n",
            "=== Final Answer ===\n",
            "1050s\n",
            "Checkpoint saved: 50 questions processed\n",
            "\n",
            "\n",
            "=== Processing Question 51/100 ===\n",
            "ID: 5ad3de8b604f3c001a3ff469\n",
            "Question: Who ruined Alexius Komnenos plans for an independent state?\n"
          ]
        },
        {
          "name": "stderr",
          "output_type": "stream",
          "text": [
            "\rProcessing SQuAD examples:  51%|█████     | 51/100 [14:34<13:22, 16.38s/it]"
          ]
        },
        {
          "name": "stdout",
          "output_type": "stream",
          "text": [
            "\n",
            "=== Final Answer ===\n",
            "The context states that Roussel de Bailleul attempted to establish an independent state but was stopped by Alexius Komnenos. The question asks who ruined Alexius Komnenos's plans, but the context does not mention Alexius having such plans; rather, he thwarted Roussel's. Thus, the premise of the question conflicts with the provided information. \n",
            "\n",
            "Answer (just the answer string, or empty string if unanswerable):\n",
            "\n",
            "\n",
            "=== Processing Question 52/100 ===\n",
            "ID: 5ad3de8b604f3c001a3ff46a\n",
            "Question: When did Herve go up against the Turks?\n"
          ]
        },
        {
          "name": "stderr",
          "output_type": "stream",
          "text": [
            "\rProcessing SQuAD examples:  52%|█████▏    | 52/100 [14:49<12:47, 16.00s/it]"
          ]
        },
        {
          "name": "stdout",
          "output_type": "stream",
          "text": [
            "\n",
            "=== Final Answer ===\n",
            "Answer (just the answer string, or empty string if unanswerable):\n",
            "\n",
            "\n",
            "=== Processing Question 53/100 ===\n",
            "ID: 56de10b44396321400ee2593\n",
            "Question: What was the name of the Norman castle?\n"
          ]
        },
        {
          "name": "stderr",
          "output_type": "stream",
          "text": [
            "\rProcessing SQuAD examples:  53%|█████▎    | 53/100 [15:01<11:38, 14.86s/it]"
          ]
        },
        {
          "name": "stdout",
          "output_type": "stream",
          "text": [
            "\n",
            "=== Final Answer ===\n",
            "Afranji\n",
            "\n",
            "\n",
            "=== Processing Question 54/100 ===\n",
            "ID: 56de10b44396321400ee2594\n",
            "Question: Who was the leader when the Franks entered the Euphrates valley?\n"
          ]
        },
        {
          "name": "stderr",
          "output_type": "stream",
          "text": [
            "\rProcessing SQuAD examples:  54%|█████▍    | 54/100 [15:11<10:04, 13.14s/it]"
          ]
        },
        {
          "name": "stdout",
          "output_type": "stream",
          "text": [
            "\n",
            "=== Final Answer ===\n",
            "Oursel\n",
            "\n",
            "\n",
            "=== Processing Question 55/100 ===\n",
            "ID: 56de10b44396321400ee2595\n",
            "Question: Who did the Normans team up with in Anatolia?\n"
          ]
        },
        {
          "name": "stderr",
          "output_type": "stream",
          "text": [
            "\rProcessing SQuAD examples:  55%|█████▌    | 55/100 [15:22<09:31, 12.69s/it]"
          ]
        },
        {
          "name": "stdout",
          "output_type": "stream",
          "text": [
            "\n",
            "=== Final Answer ===\n",
            "Turkish forces\n",
            "\n",
            "\n",
            "=== Processing Question 56/100 ===\n",
            "ID: 5ad3e96b604f3c001a3ff689\n",
            "Question: Who joined Norman forces in the destruction of the Armenians?\n"
          ]
        },
        {
          "name": "stderr",
          "output_type": "stream",
          "text": [
            "\rProcessing SQuAD examples:  56%|█████▌    | 56/100 [16:11<17:10, 23.42s/it]"
          ]
        },
        {
          "name": "stdout",
          "output_type": "stream",
          "text": [
            "\n",
            "=== Final Answer ===\n",
            "Turkish forces\n",
            "\n",
            "Answer (just the answer string, or empty string if unanswerable):\n",
            "\n",
            "\n",
            "=== Processing Question 57/100 ===\n",
            "ID: 5ad3e96b604f3c001a3ff68a\n",
            "Question: Who did the Turks take up service with?\n"
          ]
        },
        {
          "name": "stderr",
          "output_type": "stream",
          "text": [
            "\rProcessing SQuAD examples:  57%|█████▋    | 57/100 [16:30<15:53, 22.18s/it]"
          ]
        },
        {
          "name": "stdout",
          "output_type": "stream",
          "text": [
            "\n",
            "=== Final Answer ===\n",
            "Armenian state further south in Cilicia and the Taurus Mountains.\n",
            "\n",
            "\n",
            "=== Processing Question 58/100 ===\n",
            "ID: 5ad3e96b604f3c001a3ff68b\n",
            "Question: What Frank led Norman forces?\n"
          ]
        },
        {
          "name": "stderr",
          "output_type": "stream",
          "text": [
            "\rProcessing SQuAD examples:  58%|█████▊    | 58/100 [17:01<17:26, 24.91s/it]"
          ]
        },
        {
          "name": "stdout",
          "output_type": "stream",
          "text": [
            "\n",
            "=== Final Answer ===\n",
            "Raimbaud\n",
            "\n",
            "\n",
            "=== Processing Question 59/100 ===\n",
            "ID: 5ad3e96b604f3c001a3ff68c\n",
            "Question: Where did Oursel lead the Franks?\n"
          ]
        },
        {
          "name": "stderr",
          "output_type": "stream",
          "text": [
            "\rProcessing SQuAD examples:  59%|█████▉    | 59/100 [17:17<15:04, 22.07s/it]"
          ]
        },
        {
          "name": "stdout",
          "output_type": "stream",
          "text": [
            "\n",
            "=== Final Answer ===\n",
            "upper Euphrates valley in northern Syria\n",
            "\n",
            "\n",
            "=== Processing Question 60/100 ===\n",
            "ID: 56de11154396321400ee25aa\n",
            "Question: What were the origins of the Raouliii family?\n"
          ]
        },
        {
          "name": "stderr",
          "output_type": "stream",
          "text": [
            "\rProcessing SQuAD examples:  60%|██████    | 60/100 [17:32<13:22, 20.07s/it]"
          ]
        },
        {
          "name": "stdout",
          "output_type": "stream",
          "text": [
            "\n",
            "=== Final Answer ===\n",
            "Italo-Norman named Raoul\n",
            "Checkpoint saved: 60 questions processed\n",
            "\n",
            "\n",
            "=== Processing Question 61/100 ===\n",
            "ID: 5ad3ea79604f3c001a3ff6e9\n",
            "Question: Where were several Norman mercenary familes originate from?\n"
          ]
        },
        {
          "name": "stderr",
          "output_type": "stream",
          "text": [
            "\rProcessing SQuAD examples:  61%|██████    | 61/100 [17:46<11:54, 18.33s/it]"
          ]
        },
        {
          "name": "stdout",
          "output_type": "stream",
          "text": [
            "\n",
            "=== Final Answer ===\n",
            "Italy\n",
            "\n",
            "\n",
            "=== Processing Question 62/100 ===\n",
            "ID: 5ad3ea79604f3c001a3ff6ea\n",
            "Question: Who did the Normans serve under in the 10th century?\n"
          ]
        },
        {
          "name": "stderr",
          "output_type": "stream",
          "text": [
            "\rProcessing SQuAD examples:  62%|██████▏   | 62/100 [17:57<10:14, 16.17s/it]"
          ]
        },
        {
          "name": "stdout",
          "output_type": "stream",
          "text": [
            "\n",
            "=== Final Answer ===\n",
            "Answer (just the answer string, or empty string if unanswerable):\n",
            "\n",
            "\n",
            "=== Processing Question 63/100 ===\n",
            "ID: 5ad3ea79604f3c001a3ff6eb\n",
            "Question: What expedition did George Maniaces lead in the 10th century?\n"
          ]
        },
        {
          "name": "stderr",
          "output_type": "stream",
          "text": [
            "\rProcessing SQuAD examples:  63%|██████▎   | 63/100 [18:17<10:35, 17.19s/it]"
          ]
        },
        {
          "name": "stdout",
          "output_type": "stream",
          "text": [
            "\n",
            "=== Final Answer ===\n",
            "Sicilian expedition\n",
            "\n",
            "\n",
            "=== Processing Question 64/100 ===\n",
            "ID: 56de148dcffd8e1900b4b5bc\n",
            "Question: What was the name of the count of Apulia \n"
          ]
        },
        {
          "name": "stderr",
          "output_type": "stream",
          "text": [
            "\rProcessing SQuAD examples:  64%|██████▍   | 64/100 [18:30<09:30, 15.84s/it]"
          ]
        },
        {
          "name": "stdout",
          "output_type": "stream",
          "text": [
            "\n",
            "=== Final Answer ===\n",
            "Robert Guiscard\n",
            "\n",
            "\n",
            "=== Processing Question 65/100 ===\n",
            "ID: 56de148dcffd8e1900b4b5bd\n",
            "Question: When did Dyrrachium  fall to the Normans?\n"
          ]
        },
        {
          "name": "stderr",
          "output_type": "stream",
          "text": [
            "\rProcessing SQuAD examples:  65%|██████▌   | 65/100 [18:50<10:02, 17.22s/it]"
          ]
        },
        {
          "name": "stdout",
          "output_type": "stream",
          "text": [
            "\n",
            "=== Final Answer ===\n",
            "February 1082\n",
            "\n",
            "\n",
            "=== Processing Question 66/100 ===\n",
            "ID: 56de148dcffd8e1900b4b5be\n",
            "Question: How many men were in Robert's army?\n"
          ]
        },
        {
          "name": "stderr",
          "output_type": "stream",
          "text": [
            "\rProcessing SQuAD examples:  66%|██████▌   | 66/100 [19:03<09:01, 15.92s/it]"
          ]
        },
        {
          "name": "stdout",
          "output_type": "stream",
          "text": [
            "\n",
            "=== Final Answer ===\n",
            "30,000\n",
            "\n",
            "\n",
            "=== Processing Question 67/100 ===\n",
            "ID: 5ad3ed26604f3c001a3ff799\n",
            "Question: Who ultimatly drove the Byzantines out of Europe?\n"
          ]
        },
        {
          "name": "stderr",
          "output_type": "stream",
          "text": [
            "\rProcessing SQuAD examples:  67%|██████▋   | 67/100 [19:25<09:49, 17.85s/it]"
          ]
        },
        {
          "name": "stdout",
          "output_type": "stream",
          "text": [
            "\n",
            "=== Final Answer ===\n",
            "Robert Guiscard\n",
            "\n",
            "\n",
            "=== Processing Question 68/100 ===\n",
            "ID: 5ad3ed26604f3c001a3ff79a\n",
            "Question: What pope opposed Roberts campaign?\n"
          ]
        },
        {
          "name": "stderr",
          "output_type": "stream",
          "text": [
            "\rProcessing SQuAD examples:  68%|██████▊   | 68/100 [19:41<09:11, 17.23s/it]"
          ]
        },
        {
          "name": "stdout",
          "output_type": "stream",
          "text": [
            "\n",
            "=== Final Answer ===\n",
            "Gregory VII\n",
            "\n",
            "\n",
            "=== Processing Question 69/100 ===\n",
            "ID: 5ad3ed26604f3c001a3ff79b\n",
            "Question: What fell to the Normans in the 10th century?\n"
          ]
        },
        {
          "name": "stderr",
          "output_type": "stream",
          "text": [
            "\rProcessing SQuAD examples:  69%|██████▉   | 69/100 [20:00<09:06, 17.63s/it]"
          ]
        },
        {
          "name": "stdout",
          "output_type": "stream",
          "text": [
            "\n",
            "=== Final Answer ===\n",
            "Answer:\n",
            "\n",
            "\n",
            "=== Processing Question 70/100 ===\n",
            "ID: 5ad3ed26604f3c001a3ff79c\n",
            "Question: How many men did Roberts army face?\n"
          ]
        },
        {
          "name": "stderr",
          "output_type": "stream",
          "text": [
            "\rProcessing SQuAD examples:  70%|███████   | 70/100 [20:16<08:32, 17.07s/it]"
          ]
        },
        {
          "name": "stdout",
          "output_type": "stream",
          "text": [
            "\n",
            "=== Final Answer ===\n",
            "Answer (just the answer string, or empty string if unanswerable):\n",
            "Checkpoint saved: 70 questions processed\n",
            "\n",
            "\n",
            "=== Processing Question 71/100 ===\n",
            "ID: 56de15104396321400ee25b7\n",
            "Question: Where did the Normans and Byzantines sign the peace treaty?\n"
          ]
        },
        {
          "name": "stderr",
          "output_type": "stream",
          "text": [
            "\rProcessing SQuAD examples:  71%|███████   | 71/100 [20:28<07:30, 15.55s/it]"
          ]
        },
        {
          "name": "stdout",
          "output_type": "stream",
          "text": [
            "\n",
            "=== Final Answer ===\n",
            "Deabolis\n",
            "\n",
            "\n",
            "=== Processing Question 72/100 ===\n",
            "ID: 56de15104396321400ee25b8\n",
            "Question: Who was Robert's son?\n"
          ]
        },
        {
          "name": "stderr",
          "output_type": "stream",
          "text": [
            "\rProcessing SQuAD examples:  72%|███████▏  | 72/100 [20:38<06:32, 14.02s/it]"
          ]
        },
        {
          "name": "stdout",
          "output_type": "stream",
          "text": [
            "\n",
            "=== Final Answer ===\n",
            "Bohemond\n",
            "\n",
            "\n",
            "=== Processing Question 73/100 ===\n",
            "ID: 56de15104396321400ee25b9\n",
            "Question: What river was Petrela located by?\n"
          ]
        },
        {
          "name": "stderr",
          "output_type": "stream",
          "text": [
            "\rProcessing SQuAD examples:  73%|███████▎  | 73/100 [22:00<15:29, 34.43s/it]"
          ]
        },
        {
          "name": "stdout",
          "output_type": "stream",
          "text": [
            "\n",
            "=== Final Answer ===\n",
            "Deabolis\n",
            "\n",
            "\n",
            "=== Processing Question 74/100 ===\n",
            "ID: 5ad3ee2d604f3c001a3ff7e1\n",
            "Question: Who did the Normans besiege in the 11th century?\n"
          ]
        },
        {
          "name": "stderr",
          "output_type": "stream",
          "text": [
            "\rProcessing SQuAD examples:  74%|███████▍  | 74/100 [22:16<12:29, 28.83s/it]"
          ]
        },
        {
          "name": "stdout",
          "output_type": "stream",
          "text": [
            "\n",
            "=== Final Answer ===\n",
            "Dyrrachium\n",
            "\n",
            "\n",
            "=== Processing Question 75/100 ===\n",
            "ID: 5ad3ee2d604f3c001a3ff7e2\n",
            "Question: Who did Robert lead agains Dyrrachium in 1107?\n"
          ]
        },
        {
          "name": "stderr",
          "output_type": "stream",
          "text": [
            "\rProcessing SQuAD examples:  75%|███████▌  | 75/100 [22:38<11:09, 26.79s/it]"
          ]
        },
        {
          "name": "stdout",
          "output_type": "stream",
          "text": [
            "\n",
            "=== Final Answer ===\n",
            "The context states that the Normans were led by Bohemond, Robert's son, in 1107. The question incorrectly attributes the leadership to Robert. Therefore, the answer is unanswerable based on the provided information.\n",
            "\n",
            "Answer:\n",
            "\n",
            "\n",
            "=== Processing Question 76/100 ===\n",
            "ID: 5ad3ee2d604f3c001a3ff7e3\n",
            "Question: Who was Bohemond's son?\n"
          ]
        },
        {
          "name": "stderr",
          "output_type": "stream",
          "text": [
            "\rProcessing SQuAD examples:  76%|███████▌  | 76/100 [22:57<09:46, 24.46s/it]"
          ]
        },
        {
          "name": "stdout",
          "output_type": "stream",
          "text": [
            "\n",
            "=== Final Answer ===\n",
            "Answer:\n",
            "\n",
            "\n",
            "=== Processing Question 77/100 ===\n",
            "ID: 56de1563cffd8e1900b4b5c2\n",
            "Question: When did the Normans attack Dyrrachium?\n"
          ]
        },
        {
          "name": "stderr",
          "output_type": "stream",
          "text": [
            "\rProcessing SQuAD examples:  77%|███████▋  | 77/100 [23:07<07:47, 20.31s/it]"
          ]
        },
        {
          "name": "stdout",
          "output_type": "stream",
          "text": [
            "\n",
            "=== Final Answer ===\n",
            "1185\n",
            "\n",
            "\n",
            "=== Processing Question 78/100 ===\n",
            "ID: 56de1563cffd8e1900b4b5c3\n",
            "Question: What was the naval base called?\n"
          ]
        },
        {
          "name": "stderr",
          "output_type": "stream",
          "text": [
            "\rProcessing SQuAD examples:  78%|███████▊  | 78/100 [23:20<06:34, 17.95s/it]"
          ]
        },
        {
          "name": "stdout",
          "output_type": "stream",
          "text": [
            "\n",
            "=== Final Answer ===\n",
            "Dyrrachium\n",
            "\n",
            "\n",
            "=== Processing Question 79/100 ===\n",
            "ID: 56de1563cffd8e1900b4b5c4\n",
            "Question: Where was Dyrrachium located?\n"
          ]
        },
        {
          "name": "stderr",
          "output_type": "stream",
          "text": [
            "\rProcessing SQuAD examples:  79%|███████▉  | 79/100 [23:32<05:37, 16.07s/it]"
          ]
        },
        {
          "name": "stdout",
          "output_type": "stream",
          "text": [
            "\n",
            "=== Final Answer ===\n",
            "Albania\n",
            "\n",
            "\n",
            "=== Processing Question 80/100 ===\n",
            "ID: 5ad3f028604f3c001a3ff823\n",
            "Question: Who attacked Dyrrachium in the 11th century?\n"
          ]
        },
        {
          "name": "stderr",
          "output_type": "stream",
          "text": [
            "\rProcessing SQuAD examples:  80%|████████  | 80/100 [23:48<05:23, 16.19s/it]"
          ]
        },
        {
          "name": "stdout",
          "output_type": "stream",
          "text": [
            "\n",
            "=== Final Answer ===\n",
            "The context provided refers to an attack on Dyrrachium in 1185 (12th century) by the Normans. The question asks about an attack in the 11th century, which is not mentioned in the context. Therefore, the answer is unanswerable based on the given information.\n",
            "\n",
            "Answer (just the answer string, or empty string if unanswerable):\n",
            "Checkpoint saved: 80 questions processed\n",
            "\n",
            "\n",
            "=== Processing Question 81/100 ===\n",
            "ID: 5ad3f028604f3c001a3ff824\n",
            "Question: Who betrayed the Normans?\n"
          ]
        },
        {
          "name": "stderr",
          "output_type": "stream",
          "text": [
            "\rProcessing SQuAD examples:  81%|████████  | 81/100 [24:14<06:05, 19.24s/it]"
          ]
        },
        {
          "name": "stdout",
          "output_type": "stream",
          "text": [
            "\n",
            "=== Final Answer ===\n",
            "high Byzantine officials\n",
            "\n",
            "\n",
            "=== Processing Question 82/100 ===\n",
            "ID: 5ad3f028604f3c001a3ff825\n",
            "Question: What naval base fell to the Normans?\n"
          ]
        },
        {
          "name": "stderr",
          "output_type": "stream",
          "text": [
            "\rProcessing SQuAD examples:  82%|████████▏ | 82/100 [24:32<05:38, 18.79s/it]"
          ]
        },
        {
          "name": "stdout",
          "output_type": "stream",
          "text": [
            "\n",
            "=== Final Answer ===\n",
            "Dyrrachium\n",
            "\n",
            "\n",
            "=== Processing Question 83/100 ===\n",
            "ID: 56de15dbcffd8e1900b4b5c8\n",
            "Question: Who did Emma Marry?\n"
          ]
        },
        {
          "name": "stderr",
          "output_type": "stream",
          "text": [
            "\rProcessing SQuAD examples:  83%|████████▎ | 83/100 [24:43<04:38, 16.39s/it]"
          ]
        },
        {
          "name": "stdout",
          "output_type": "stream",
          "text": [
            "\n",
            "=== Final Answer ===\n",
            "Ethelred II\n",
            "\n",
            "\n",
            "=== Processing Question 84/100 ===\n",
            "ID: 56de15dbcffd8e1900b4b5c9\n",
            "Question: Who was Emma's brother?\n"
          ]
        },
        {
          "name": "stderr",
          "output_type": "stream",
          "text": [
            "\rProcessing SQuAD examples:  84%|████████▍ | 84/100 [24:52<03:47, 14.19s/it]"
          ]
        },
        {
          "name": "stdout",
          "output_type": "stream",
          "text": [
            "\n",
            "=== Final Answer ===\n",
            "Richard II of Normandy\n",
            "\n",
            "\n",
            "=== Processing Question 85/100 ===\n",
            "ID: 56de15dbcffd8e1900b4b5ca\n",
            "Question: To where did Ethelred flee?\n"
          ]
        },
        {
          "name": "stderr",
          "output_type": "stream",
          "text": [
            "\rProcessing SQuAD examples:  85%|████████▌ | 85/100 [25:02<03:11, 12.78s/it]"
          ]
        },
        {
          "name": "stdout",
          "output_type": "stream",
          "text": [
            "\n",
            "=== Final Answer ===\n",
            "Normandy\n",
            "\n",
            "\n",
            "=== Processing Question 86/100 ===\n",
            "ID: 56de15dbcffd8e1900b4b5cb\n",
            "Question: Who kicked Ethelred out?\n"
          ]
        },
        {
          "name": "stderr",
          "output_type": "stream",
          "text": [
            "\rProcessing SQuAD examples:  86%|████████▌ | 86/100 [25:14<02:56, 12.62s/it]"
          ]
        },
        {
          "name": "stdout",
          "output_type": "stream",
          "text": [
            "\n",
            "=== Final Answer ===\n",
            "Sweyn Forkbeard\n",
            "\n",
            "\n",
            "=== Processing Question 87/100 ===\n",
            "ID: 5ad3f187604f3c001a3ff86f\n",
            "Question: Who married Cnut the Great?\n"
          ]
        },
        {
          "name": "stderr",
          "output_type": "stream",
          "text": [
            "\rProcessing SQuAD examples:  87%|████████▋ | 87/100 [25:32<03:05, 14.27s/it]"
          ]
        },
        {
          "name": "stdout",
          "output_type": "stream",
          "text": [
            "\n",
            "=== Final Answer ===\n",
            "Answer:\n",
            "\n",
            "\n",
            "=== Processing Question 88/100 ===\n",
            "ID: 5ad3f187604f3c001a3ff870\n",
            "Question: When did Richard II flee to Normandy?\n"
          ]
        },
        {
          "name": "stderr",
          "output_type": "stream",
          "text": [
            "\rProcessing SQuAD examples:  88%|████████▊ | 88/100 [25:46<02:52, 14.34s/it]"
          ]
        },
        {
          "name": "stdout",
          "output_type": "stream",
          "text": [
            "\n",
            "=== Final Answer ===\n",
            "Answer (just the answer string, or empty string if unanswerable):\n",
            "\n",
            "\n",
            "=== Processing Question 89/100 ===\n",
            "ID: 5ad3f187604f3c001a3ff871\n",
            "Question: Who's major ports were controlled by the English?\n"
          ]
        },
        {
          "name": "stderr",
          "output_type": "stream",
          "text": [
            "\rProcessing SQuAD examples:  89%|████████▉ | 89/100 [26:04<02:49, 15.42s/it]"
          ]
        },
        {
          "name": "stdout",
          "output_type": "stream",
          "text": [
            "\n",
            "=== Final Answer ===\n",
            "The context states that the Normans controlled most of the important ports opposite England across the English Channel. It does not mention the English controlling another party's major ports. Therefore, the answer is unanswerable based on the provided information.\n",
            "\n",
            "Answer (just the answer string, or empty string if unanswerable):\n",
            "\n",
            "\n",
            "=== Processing Question 90/100 ===\n",
            "ID: 56de1645cffd8e1900b4b5d0\n",
            "Question: Who was Edward the Confessor's half-brother?\n"
          ]
        },
        {
          "name": "stderr",
          "output_type": "stream",
          "text": [
            "\rProcessing SQuAD examples:  90%|█████████ | 90/100 [26:13<02:15, 13.51s/it]"
          ]
        },
        {
          "name": "stdout",
          "output_type": "stream",
          "text": [
            "\n",
            "=== Final Answer ===\n",
            "Harthacnut\n",
            "Checkpoint saved: 90 questions processed\n",
            "\n",
            "\n",
            "=== Processing Question 91/100 ===\n",
            "ID: 56de1645cffd8e1900b4b5d1\n",
            "Question: When did Edward return?\n"
          ]
        },
        {
          "name": "stderr",
          "output_type": "stream",
          "text": [
            "\rProcessing SQuAD examples:  91%|█████████ | 91/100 [26:24<01:54, 12.68s/it]"
          ]
        },
        {
          "name": "stdout",
          "output_type": "stream",
          "text": [
            "\n",
            "=== Final Answer ===\n",
            "1041\n",
            "\n",
            "\n",
            "=== Processing Question 92/100 ===\n",
            "ID: 56de1645cffd8e1900b4b5d2\n",
            "Question: Who did Edward make archbishop of Canterbury?\n"
          ]
        },
        {
          "name": "stderr",
          "output_type": "stream",
          "text": [
            "\rProcessing SQuAD examples:  92%|█████████▏| 92/100 [26:37<01:41, 12.70s/it]"
          ]
        },
        {
          "name": "stdout",
          "output_type": "stream",
          "text": [
            "\n",
            "=== Final Answer ===\n",
            "Robert of Jumièges\n",
            "\n",
            "\n",
            "=== Processing Question 93/100 ===\n",
            "ID: 5ad3f350604f3c001a3ff8ef\n",
            "Question: When did Edward the Confessor's son return from his fathers refuge?\n"
          ]
        },
        {
          "name": "stderr",
          "output_type": "stream",
          "text": [
            "\rProcessing SQuAD examples:  93%|█████████▎| 93/100 [26:53<01:36, 13.85s/it]"
          ]
        },
        {
          "name": "stdout",
          "output_type": "stream",
          "text": [
            "\n",
            "=== Final Answer ===\n",
            "Answer:\n",
            "\n",
            "\n",
            "=== Processing Question 94/100 ===\n",
            "ID: 5ad3f350604f3c001a3ff8f0\n",
            "Question: What kind of force did Harthacnut establish?\n"
          ]
        },
        {
          "name": "stderr",
          "output_type": "stream",
          "text": [
            "\rProcessing SQuAD examples:  94%|█████████▍| 94/100 [27:29<02:02, 20.37s/it]"
          ]
        },
        {
          "name": "stdout",
          "output_type": "stream",
          "text": [
            "\n",
            "=== Final Answer ===\n",
            "Answer:\n",
            "\n",
            "\n",
            "=== Processing Question 95/100 ===\n",
            "ID: 5ad3f350604f3c001a3ff8f1\n",
            "Question: Who made Robert of Jumieges earl of Hereford?\n"
          ]
        },
        {
          "name": "stderr",
          "output_type": "stream",
          "text": [
            "\rProcessing SQuAD examples:  95%|█████████▌| 95/100 [27:43<01:31, 18.33s/it]"
          ]
        },
        {
          "name": "stdout",
          "output_type": "stream",
          "text": [
            "\n",
            "=== Final Answer ===\n",
            "Answer (just the answer string, or empty string if unanswerable):\n",
            "\n",
            "\n",
            "=== Processing Question 96/100 ===\n",
            "ID: 56de16ca4396321400ee25c5\n",
            "Question: Where did Harold II die?\n"
          ]
        },
        {
          "name": "stderr",
          "output_type": "stream",
          "text": [
            "\rProcessing SQuAD examples:  96%|█████████▌| 96/100 [27:52<01:02, 15.69s/it]"
          ]
        },
        {
          "name": "stdout",
          "output_type": "stream",
          "text": [
            "\n",
            "=== Final Answer ===\n",
            "Battle of Hastings\n",
            "\n",
            "\n",
            "=== Processing Question 97/100 ===\n",
            "ID: 56de16ca4396321400ee25c6\n",
            "Question: Who killed Harold II? \n"
          ]
        },
        {
          "name": "stderr",
          "output_type": "stream",
          "text": [
            "\rProcessing SQuAD examples:  97%|█████████▋| 97/100 [28:02<00:42, 14.03s/it]"
          ]
        },
        {
          "name": "stdout",
          "output_type": "stream",
          "text": [
            "\n",
            "=== Final Answer ===\n",
            "Duke William II of Normandy\n",
            "\n",
            "\n",
            "=== Processing Question 98/100 ===\n",
            "ID: 56de16ca4396321400ee25c7\n",
            "Question: When was the Battle of Hastings?\n"
          ]
        },
        {
          "name": "stderr",
          "output_type": "stream",
          "text": [
            "\rProcessing SQuAD examples:  98%|█████████▊| 98/100 [28:15<00:27, 13.57s/it]"
          ]
        },
        {
          "name": "stdout",
          "output_type": "stream",
          "text": [
            "\n",
            "=== Final Answer ===\n",
            "1066\n",
            "\n",
            "\n",
            "=== Processing Question 99/100 ===\n",
            "ID: 56de16ca4396321400ee25c8\n",
            "Question: Who was the ruling class ahead of the Normans?\n"
          ]
        },
        {
          "name": "stderr",
          "output_type": "stream",
          "text": [
            "\rProcessing SQuAD examples:  99%|█████████▉| 99/100 [28:25<00:12, 12.69s/it]"
          ]
        },
        {
          "name": "stdout",
          "output_type": "stream",
          "text": [
            "\n",
            "=== Final Answer ===\n",
            "Anglo-Saxons\n",
            "\n",
            "\n",
            "=== Processing Question 100/100 ===\n",
            "ID: 5ad3f4b1604f3c001a3ff951\n",
            "Question: When did King Harold II conquer England?\n"
          ]
        },
        {
          "name": "stderr",
          "output_type": "stream",
          "text": [
            "Processing SQuAD examples: 100%|██████████| 100/100 [28:44<00:00, 17.25s/it]"
          ]
        },
        {
          "name": "stdout",
          "output_type": "stream",
          "text": [
            "\n",
            "=== Final Answer ===\n",
            "Answer: \n",
            "\n",
            "The answer is an empty string because the context states that Duke William II of Normandy conquered England in 1066, defeating and killing King Harold II at the Battle of Hastings. King Harold II did not conquer England; he was the reigning monarch who was defeated. The question contains a factual inaccuracy, making it unanswerable as posed.\n",
            "Checkpoint saved: 100 questions processed\n",
            "\n",
            "Wrote predictions for 100 questions to /content/drive/My Drive/DataSet/preds.json\n"
          ]
        },
        {
          "name": "stderr",
          "output_type": "stream",
          "text": [
            "\n"
          ]
        }
      ],
      "source": [
        "# run_squad_search_agent.py\n",
        "\n",
        "from google.colab import drive\n",
        "import json\n",
        "from tqdm import tqdm  # For progress tracking\n",
        "from langchain.chat_models import ChatOpenAI\n",
        "from langchain.prompts import PromptTemplate\n",
        "\n",
        "# === MODEL SETUP ===\n",
        "llm = ChatOpenAI(\n",
        "    model=\"deepseek-reasoner\",\n",
        "    openai_api_key=os.environ[\"OPENAI_API_KEY\"],\n",
        "    openai_api_base=\"https://api.deepseek.com/v1\",\n",
        "    temperature=0.0\n",
        ")\n",
        "\n",
        "# === DIRECT LLM QA PROMPT ===\n",
        "direct_qa_prompt = PromptTemplate(\n",
        "    input_variables=[\"context\", \"question\"],\n",
        "    template=(\n",
        "        \"You are a SQuAD‑style QA system. Answer the question \"\n",
        "        \"using only your internal knowledge—no external tools.\\n\\n\"\n",
        "        \"Context:\\n{context}\\n\\n\"\n",
        "        \"Question:\\n{question}\\n\\n\"\n",
        "        \"Answer (just the answer string, or empty string if unanswerable):\"\n",
        "    )\n",
        ")\n",
        "\n",
        "def generate_final_answer(llm, context: str, question: str) -> str:\n",
        "    prompt_text = direct_qa_prompt.format(\n",
        "        context=context.replace('\"', '\\\\\"'),\n",
        "        question=question.replace('\"', '\\\\\"')\n",
        "    )\n",
        "    return llm.invoke(prompt_text).content.strip()\n",
        "\n",
        "# === MAIN FLOW ===\n",
        "if __name__ == \"__main__\":\n",
        "    # 1) Mount Google Drive and load the SQuAD v2 dev set\n",
        "    drive.mount('/content/drive')\n",
        "    path = \"/content/drive/My Drive/DataSet/dev-v2.0.json\"\n",
        "    with open(path, 'r', encoding='utf-8') as f:\n",
        "        squad = json.load(f)\n",
        "\n",
        "    # 2) Flatten into a list of (id, context, question) dicts\n",
        "    examples = []\n",
        "    for art in squad[\"data\"]:\n",
        "        for para in art[\"paragraphs\"]:\n",
        "            for qa in para[\"qas\"]:\n",
        "                examples.append({\n",
        "                    \"id\":       qa[\"id\"],\n",
        "                    \"context\":  para[\"context\"],\n",
        "                    \"question\": qa[\"question\"]\n",
        "                })\n",
        "\n",
        "    # 3) Take up to the first 100 examples\n",
        "    examples_to_process = examples[:100]\n",
        "\n",
        "    # 4) Initialize predictions dictionary\n",
        "    preds = {}\n",
        "\n",
        "    # 5) Process each example with a progress bar\n",
        "    for i, ex in enumerate(tqdm(examples_to_process, desc=\"Processing SQuAD examples\")):\n",
        "        qid      = ex[\"id\"]\n",
        "        context  = ex[\"context\"]\n",
        "        question = ex[\"question\"]\n",
        "\n",
        "        print(f\"\\n\\n=== Processing Question {i+1}/{len(examples_to_process)} ===\")\n",
        "        print(f\"ID: {qid}\")\n",
        "        print(f\"Question: {question}\")\n",
        "\n",
        "        try:\n",
        "            # Generate and print the final answer\n",
        "            final_answer = generate_final_answer(llm, context, question)\n",
        "            print(\"\\n=== Final Answer ===\")\n",
        "            print(final_answer)\n",
        "\n",
        "            # Store prediction\n",
        "            preds[qid] = final_answer\n",
        "\n",
        "            # Save a checkpoint every 10 questions\n",
        "            if (i + 1) % 10 == 0:\n",
        "                ckpt_path = \"/content/drive/My Drive/DataSet/preds_checkpoint.json\"\n",
        "                with open(ckpt_path, \"w\", encoding=\"utf-8\") as f:\n",
        "                    json.dump(preds, f, ensure_ascii=False, indent=2)\n",
        "                print(f\"Checkpoint saved: {len(preds)} questions processed\")\n",
        "\n",
        "        except Exception as e:\n",
        "            print(f\"Error processing question {qid}: {e}\")\n",
        "            preds[qid] = \"\"\n",
        "\n",
        "    # 6) Save final results\n",
        "    out_path = \"/content/drive/My Drive/DataSet/preds.json\"\n",
        "    with open(out_path, \"w\", encoding=\"utf-8\") as f:\n",
        "        json.dump(preds, f, ensure_ascii=False, indent=2)\n",
        "    print(f\"\\nWrote predictions for {len(preds)} questions to {out_path}\")\n"
      ]
    },
    {
      "cell_type": "code",
      "execution_count": 27,
      "metadata": {
        "id": "ruL3YrDOPxfT"
      },
      "outputs": [],
      "source": [
        "import json, re\n",
        "\n",
        "# 1. Load your raw preds.json (dict of id → long Markdown)\n",
        "raw_preds = json.load(open(\"/content/drive/My Drive/DataSet/preds.json\"))\n",
        "\n",
        "# 2. Extract just the answer span.\n",
        "#    Here we strip Markdown and take the Conclusion paragraph.\n",
        "clean_preds = {}\n",
        "for qid, text in raw_preds.items():\n",
        "    # Split at the \"**Conclusion:**\" header (if present)\n",
        "    parts = text.split(\"**Conclusion:**\")\n",
        "    answer = parts[-1].strip()      # use everything after that header\n",
        "    # Remove remaining Markdown bullets, sources, etc.\n",
        "    answer = re.sub(r\"\\*|\\[SOURCE:.*?\\]\", \"\", answer).strip()\n",
        "    clean_preds[qid] = answer\n",
        "\n",
        "# Now clean_preds maps id → plain answer text\n",
        "# 3. Reformat into the list-of-dicts that Evaluate expects\n",
        "formatted = [\n",
        "    {\"id\": qid, \"prediction_text\": ans, \"no_answer_probability\": 0.0}\n",
        "    for qid, ans in clean_preds.items()\n",
        "]\n",
        "\n",
        "# 4. (Optional) Persist to disk for inspection\n",
        "with open(\"/content/drive/My Drive/DataSet/formatted_preds.json\", \"w\") as f:\n",
        "    json.dump(formatted, f, indent=2)"
      ]
    },
    {
      "cell_type": "code",
      "execution_count": 28,
      "metadata": {
        "colab": {
          "base_uri": "https://localhost:8080/"
        },
        "id": "UepPMlscP1RW",
        "outputId": "105430f4-a7b4-46ca-e7c8-9563d6f688ee"
      },
      "outputs": [
        {
          "name": "stdout",
          "output_type": "stream",
          "text": [
            "Total predictions: 100\n",
            "\n",
            "[\n",
            "  {\n",
            "    \"id\": \"56ddde6b9a695914005b9628\",\n",
            "    \"prediction_text\": \"France\",\n",
            "    \"no_answer_probability\": 0.0\n",
            "  },\n",
            "  {\n",
            "    \"id\": \"56ddde6b9a695914005b9629\",\n",
            "    \"prediction_text\": \"10th and 11th centuries\",\n",
            "    \"no_answer_probability\": 0.0\n",
            "  },\n",
            "  {\n",
            "    \"id\": \"56ddde6b9a695914005b962a\",\n",
            "    \"prediction_text\": \"Denmark, Iceland, Norway\",\n",
            "    \"no_answer_probability\": 0.0\n",
            "  }\n",
            "]\n"
          ]
        }
      ],
      "source": [
        "# Load your formatted preds\n",
        "formatted = json.load(open(\"/content/drive/My Drive/DataSet/formatted_preds.json\"))\n",
        "\n",
        "# Print the total count and the first 3 items\n",
        "print(f\"Total predictions: {len(formatted)}\\n\")\n",
        "print(json.dumps(formatted[:3], indent=2))\n"
      ]
    },
    {
      "cell_type": "code",
      "execution_count": 29,
      "metadata": {
        "colab": {
          "base_uri": "https://localhost:8080/"
        },
        "id": "70Urt8GcP3OS",
        "outputId": "b168319f-5acf-47b0-b7a8-15d8c45d4b82"
      },
      "outputs": [
        {
          "name": "stdout",
          "output_type": "stream",
          "text": [
            "Requirement already satisfied: evaluate in /usr/local/lib/python3.11/dist-packages (0.4.3)\n",
            "Requirement already satisfied: datasets>=2.0.0 in /usr/local/lib/python3.11/dist-packages (from evaluate) (3.5.1)\n",
            "Requirement already satisfied: numpy>=1.17 in /usr/local/lib/python3.11/dist-packages (from evaluate) (2.0.2)\n",
            "Requirement already satisfied: dill in /usr/local/lib/python3.11/dist-packages (from evaluate) (0.3.8)\n",
            "Requirement already satisfied: pandas in /usr/local/lib/python3.11/dist-packages (from evaluate) (2.2.2)\n",
            "Requirement already satisfied: requests>=2.19.0 in /usr/local/lib/python3.11/dist-packages (from evaluate) (2.32.3)\n",
            "Requirement already satisfied: tqdm>=4.62.1 in /usr/local/lib/python3.11/dist-packages (from evaluate) (4.67.1)\n",
            "Requirement already satisfied: xxhash in /usr/local/lib/python3.11/dist-packages (from evaluate) (3.5.0)\n",
            "Requirement already satisfied: multiprocess in /usr/local/lib/python3.11/dist-packages (from evaluate) (0.70.16)\n",
            "Requirement already satisfied: fsspec>=2021.05.0 in /usr/local/lib/python3.11/dist-packages (from fsspec[http]>=2021.05.0->evaluate) (2025.3.0)\n",
            "Requirement already satisfied: huggingface-hub>=0.7.0 in /usr/local/lib/python3.11/dist-packages (from evaluate) (0.30.2)\n",
            "Requirement already satisfied: packaging in /usr/local/lib/python3.11/dist-packages (from evaluate) (24.2)\n",
            "Requirement already satisfied: filelock in /usr/local/lib/python3.11/dist-packages (from datasets>=2.0.0->evaluate) (3.18.0)\n",
            "Requirement already satisfied: pyarrow>=15.0.0 in /usr/local/lib/python3.11/dist-packages (from datasets>=2.0.0->evaluate) (18.1.0)\n",
            "Requirement already satisfied: aiohttp in /usr/local/lib/python3.11/dist-packages (from datasets>=2.0.0->evaluate) (3.11.15)\n",
            "Requirement already satisfied: pyyaml>=5.1 in /usr/local/lib/python3.11/dist-packages (from datasets>=2.0.0->evaluate) (6.0.2)\n",
            "Requirement already satisfied: typing-extensions>=3.7.4.3 in /usr/local/lib/python3.11/dist-packages (from huggingface-hub>=0.7.0->evaluate) (4.13.2)\n",
            "Requirement already satisfied: charset-normalizer<4,>=2 in /usr/local/lib/python3.11/dist-packages (from requests>=2.19.0->evaluate) (3.4.1)\n",
            "Requirement already satisfied: idna<4,>=2.5 in /usr/local/lib/python3.11/dist-packages (from requests>=2.19.0->evaluate) (3.10)\n",
            "Requirement already satisfied: urllib3<3,>=1.21.1 in /usr/local/lib/python3.11/dist-packages (from requests>=2.19.0->evaluate) (2.4.0)\n",
            "Requirement already satisfied: certifi>=2017.4.17 in /usr/local/lib/python3.11/dist-packages (from requests>=2.19.0->evaluate) (2025.4.26)\n",
            "Requirement already satisfied: python-dateutil>=2.8.2 in /usr/local/lib/python3.11/dist-packages (from pandas->evaluate) (2.9.0.post0)\n",
            "Requirement already satisfied: pytz>=2020.1 in /usr/local/lib/python3.11/dist-packages (from pandas->evaluate) (2025.2)\n",
            "Requirement already satisfied: tzdata>=2022.7 in /usr/local/lib/python3.11/dist-packages (from pandas->evaluate) (2025.2)\n",
            "Requirement already satisfied: aiohappyeyeballs>=2.3.0 in /usr/local/lib/python3.11/dist-packages (from aiohttp->datasets>=2.0.0->evaluate) (2.6.1)\n",
            "Requirement already satisfied: aiosignal>=1.1.2 in /usr/local/lib/python3.11/dist-packages (from aiohttp->datasets>=2.0.0->evaluate) (1.3.2)\n",
            "Requirement already satisfied: attrs>=17.3.0 in /usr/local/lib/python3.11/dist-packages (from aiohttp->datasets>=2.0.0->evaluate) (25.3.0)\n",
            "Requirement already satisfied: frozenlist>=1.1.1 in /usr/local/lib/python3.11/dist-packages (from aiohttp->datasets>=2.0.0->evaluate) (1.6.0)\n",
            "Requirement already satisfied: multidict<7.0,>=4.5 in /usr/local/lib/python3.11/dist-packages (from aiohttp->datasets>=2.0.0->evaluate) (6.4.3)\n",
            "Requirement already satisfied: propcache>=0.2.0 in /usr/local/lib/python3.11/dist-packages (from aiohttp->datasets>=2.0.0->evaluate) (0.3.1)\n",
            "Requirement already satisfied: yarl<2.0,>=1.17.0 in /usr/local/lib/python3.11/dist-packages (from aiohttp->datasets>=2.0.0->evaluate) (1.20.0)\n",
            "Requirement already satisfied: six>=1.5 in /usr/local/lib/python3.11/dist-packages (from python-dateutil>=2.8.2->pandas->evaluate) (1.17.0)\n"
          ]
        }
      ],
      "source": [
        "!pip install evaluate"
      ]
    },
    {
      "cell_type": "code",
      "execution_count": 30,
      "metadata": {
        "colab": {
          "base_uri": "https://localhost:8080/"
        },
        "id": "C06WnUGHP5X-",
        "outputId": "73aecf80-cacb-42af-91e7-e68bf3d5b7b0"
      },
      "outputs": [
        {
          "name": "stdout",
          "output_type": "stream",
          "text": [
            "2025-05-05 02:07:51.182107: E external/local_xla/xla/stream_executor/cuda/cuda_fft.cc:477] Unable to register cuFFT factory: Attempting to register factory for plugin cuFFT when one has already been registered\n",
            "WARNING: All log messages before absl::InitializeLog() is called are written to STDERR\n",
            "E0000 00:00:1746410871.223945   12487 cuda_dnn.cc:8310] Unable to register cuDNN factory: Attempting to register factory for plugin cuDNN when one has already been registered\n",
            "E0000 00:00:1746410871.235963   12487 cuda_blas.cc:1418] Unable to register cuBLAS factory: Attempting to register factory for plugin cuBLAS when one has already been registered\n",
            "{'exact_match': np.float64(1.0)}\n"
          ]
        }
      ],
      "source": [
        "!python -c \"import evaluate; print(evaluate.load('exact_match').compute(references=['a'], predictions=['a']))\""
      ]
    },
    {
      "cell_type": "code",
      "execution_count": 31,
      "metadata": {
        "colab": {
          "base_uri": "https://localhost:8080/"
        },
        "id": "4JdZHI25P7jO",
        "outputId": "4685a07d-a424-4903-914c-bd9615663b9d"
      },
      "outputs": [
        {
          "name": "stdout",
          "output_type": "stream",
          "text": [
            "Cloning into 'SQuAD-explorer'...\n",
            "remote: Enumerating objects: 5563, done.\u001b[K\n",
            "remote: Counting objects:   4% (1/24)\u001b[K\rremote: Counting objects:   8% (2/24)\u001b[K\rremote: Counting objects:  12% (3/24)\u001b[K\rremote: Counting objects:  16% (4/24)\u001b[K\rremote: Counting objects:  20% (5/24)\u001b[K\rremote: Counting objects:  25% (6/24)\u001b[K\rremote: Counting objects:  29% (7/24)\u001b[K\rremote: Counting objects:  33% (8/24)\u001b[K\rremote: Counting objects:  37% (9/24)\u001b[K\rremote: Counting objects:  41% (10/24)\u001b[K\rremote: Counting objects:  45% (11/24)\u001b[K\rremote: Counting objects:  50% (12/24)\u001b[K\rremote: Counting objects:  54% (13/24)\u001b[K\rremote: Counting objects:  58% (14/24)\u001b[K\rremote: Counting objects:  62% (15/24)\u001b[K\rremote: Counting objects:  66% (16/24)\u001b[K\rremote: Counting objects:  70% (17/24)\u001b[K\rremote: Counting objects:  75% (18/24)\u001b[K\rremote: Counting objects:  79% (19/24)\u001b[K\rremote: Counting objects:  83% (20/24)\u001b[K\rremote: Counting objects:  87% (21/24)\u001b[K\rremote: Counting objects:  91% (22/24)\u001b[K\rremote: Counting objects:  95% (23/24)\u001b[K\rremote: Counting objects: 100% (24/24)\u001b[K\rremote: Counting objects: 100% (24/24), done.\u001b[K\n",
            "remote: Compressing objects: 100% (18/18), done.\u001b[K\n",
            "remote: Total 5563 (delta 11), reused 17 (delta 6), pack-reused 5539 (from 1)\u001b[K\n",
            "Receiving objects: 100% (5563/5563), 52.26 MiB | 9.23 MiB/s, done.\n",
            "Resolving deltas: 100% (3563/3563), done.\n",
            "/content/SQuAD-explorer/SQuAD-explorer/SQuAD-explorer\n"
          ]
        }
      ],
      "source": [
        "!git clone https://github.com/rajpurkar/SQuAD-explorer.git\n",
        "%cd SQuAD-explorer\n"
      ]
    },
    {
      "cell_type": "code",
      "execution_count": 32,
      "metadata": {
        "id": "U-eTsU-MP94G"
      },
      "outputs": [],
      "source": [
        "import evaluate\n",
        "squad_v2 = evaluate.load(\"squad_v2\")"
      ]
    },
    {
      "cell_type": "code",
      "execution_count": 33,
      "metadata": {
        "colab": {
          "base_uri": "https://localhost:8080/"
        },
        "id": "o_z1xQt4QAHi",
        "outputId": "1de69852-c0b7-4794-f9df-c91bfa62e264"
      },
      "outputs": [
        {
          "name": "stdout",
          "output_type": "stream",
          "text": [
            "+-----------------+-------------------+\n",
            "|      Metric     |       Value       |\n",
            "+-----------------+-------------------+\n",
            "| Exact Match (%) |        36.0       |\n",
            "|   F1 Score (%)  | 40.51190476190476 |\n",
            "+-----------------+-------------------+\n"
          ]
        }
      ],
      "source": [
        "from prettytable import PrettyTable\n",
        "dev = json.load(open(\"/content/drive/My Drive/DataSet/dev-v2.0.json\"))\n",
        "all_refs = []\n",
        "for art in dev[\"data\"]:\n",
        "    for para in art[\"paragraphs\"]:\n",
        "        for qa in para[\"qas\"]:\n",
        "            all_refs.append({\n",
        "                \"id\": qa[\"id\"],\n",
        "                \"answers\": {\n",
        "                    \"text\": [a[\"text\"] for a in qa[\"answers\"]],\n",
        "                    \"answer_start\": [a[\"answer_start\"] for a in qa[\"answers\"]]\n",
        "                }\n",
        "            })\n",
        "\n",
        "# 2. Filter down to only the IDs in your formatted preds\n",
        "pred_ids = {p[\"id\"] for p in formatted}\n",
        "filtered_refs = [r for r in all_refs if r[\"id\"] in pred_ids]\n",
        "\n",
        "# 3. Now lengths match: len(formatted)==len(filtered_refs)==1\n",
        "from evaluate import load\n",
        "squad_v2 = load(\"squad_v2\")\n",
        "results = squad_v2.compute(predictions=formatted, references=filtered_refs)\n",
        "table = PrettyTable()\n",
        "table.field_names = [\"Metric\", \"Value\"]\n",
        "table.add_row([\"Exact Match (%)\", results[\"exact\"]])\n",
        "table.add_row([\"F1 Score (%)\"   , results[\"f1\"]])\n",
        "\n",
        "print(table)"
      ]
    }
  ],
  "metadata": {
    "colab": {
      "provenance": []
    },
    "kernelspec": {
      "display_name": "Python 3",
      "name": "python3"
    },
    "language_info": {
      "name": "python"
    }
  },
  "nbformat": 4,
  "nbformat_minor": 0
}
